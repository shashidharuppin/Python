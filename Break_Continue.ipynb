{
 "cells": [
  {
   "cell_type": "code",
   "execution_count": 1,
   "metadata": {},
   "outputs": [
    {
     "name": "stdout",
     "output_type": "stream",
     "text": [
      "1\n",
      "2\n",
      "3\n",
      "4\n",
      "5\n",
      "6\n",
      "7\n",
      "8\n",
      "9\n",
      "10\n",
      "11\n",
      "12\n",
      "13\n",
      "14\n",
      "15\n",
      "16\n",
      "17\n",
      "18\n",
      "19\n",
      "20\n"
     ]
    }
   ],
   "source": [
    "for i in range (1,100):\n",
    "    print(i)\n",
    "    if i == 20:\n",
    "        break"
   ]
  },
  {
   "cell_type": "markdown",
   "metadata": {},
   "source": [
    "# Break is used to come out of the loop"
   ]
  },
  {
   "cell_type": "code",
   "execution_count": 3,
   "metadata": {},
   "outputs": [
    {
     "name": "stdout",
     "output_type": "stream",
     "text": [
      "1 3 5 7 9 11 13 15 17 19 21 23 25 27 29 31 33 35 37 39 41 43 45 47 49 51 53 55 57 59 61 63 65 67 69 71 73 75 77 79 81 83 85 87 89 91 93 95 97 99 101 103 105 107 109 111 113 115 117 119 121 123 125 127 129 131 133 135 137 139 141 143 145 147 149 151 153 155 157 159 161 163 165 167 169 171 173 175 177 179 181 183 185 187 189 191 193 195 197 199 "
     ]
    }
   ],
   "source": [
    "for i in range(1,201):\n",
    "    if i% 2 ==0:\n",
    "        continue\n",
    "    print(i, end=\" \")"
   ]
  },
  {
   "cell_type": "code",
   "execution_count": null,
   "metadata": {},
   "outputs": [],
   "source": [
    "# Continue is used to come out of the itertaions based on condition"
   ]
  },
  {
   "cell_type": "code",
   "execution_count": 5,
   "metadata": {},
   "outputs": [
    {
     "name": "stdout",
     "output_type": "stream",
     "text": [
      "1\n",
      "2\n",
      "3 FIZZ\n",
      "4\n",
      "5\n",
      "6 FIZZ\n",
      "7 BUZZ\n",
      "8\n",
      "9 FIZZ\n",
      "10\n",
      "11\n",
      "12 FIZZ\n",
      "13\n",
      "14 BUZZ\n",
      "15 FIZZ\n",
      "16\n",
      "17\n",
      "18 FIZZ\n",
      "19\n",
      "20\n",
      "21 FIZZ BUZZ\n",
      "22\n",
      "23\n",
      "24 FIZZ\n",
      "25\n",
      "26\n",
      "27 FIZZ\n",
      "28 BUZZ\n",
      "29\n",
      "30 FIZZ\n",
      "31\n",
      "32\n",
      "33 FIZZ\n",
      "34\n",
      "35 BUZZ\n",
      "36 FIZZ\n",
      "37\n",
      "38\n",
      "39 FIZZ\n",
      "40\n",
      "41\n",
      "42 FIZZ BUZZ\n",
      "43\n",
      "44\n",
      "45 FIZZ\n",
      "46\n",
      "47\n",
      "48 FIZZ\n",
      "49 BUZZ\n",
      "50\n",
      "51 FIZZ\n",
      "52\n",
      "53\n",
      "54 FIZZ\n",
      "55\n",
      "56 BUZZ\n",
      "57 FIZZ\n",
      "58\n",
      "59\n",
      "60 FIZZ\n",
      "61\n",
      "62\n",
      "63 FIZZ BUZZ\n",
      "64\n",
      "65\n",
      "66 FIZZ\n",
      "67\n",
      "68\n",
      "69 FIZZ\n",
      "70 BUZZ\n",
      "71\n",
      "72 FIZZ\n",
      "73\n",
      "74\n",
      "75 FIZZ\n",
      "76\n",
      "77 BUZZ\n",
      "78 FIZZ\n",
      "79\n",
      "80\n",
      "81 FIZZ\n",
      "82\n",
      "83\n",
      "84 FIZZ BUZZ\n",
      "85\n",
      "86\n",
      "87 FIZZ\n",
      "88\n",
      "89\n",
      "90 FIZZ\n",
      "91 BUZZ\n",
      "92\n",
      "93 FIZZ\n",
      "94\n",
      "95\n",
      "96 FIZZ\n",
      "97\n",
      "98 BUZZ\n",
      "99 FIZZ\n",
      "100\n"
     ]
    }
   ],
   "source": [
    "for i in range(1,101):\n",
    "    if i % 3 ==0 and i % 7==0:\n",
    "        print(i, \"FIZZ BUZZ\")\n",
    "    elif i % 3== 0:\n",
    "        print(i,\"FIZZ\")\n",
    "    elif i % 7 == 0:\n",
    "        print(i, \"BUZZ\")\n",
    "    else:\n",
    "        print(i)"
   ]
  },
  {
   "cell_type": "code",
   "execution_count": 7,
   "metadata": {},
   "outputs": [
    {
     "name": "stdout",
     "output_type": "stream",
     "text": [
      "2 4 6 8 10 12 14 16 18 20 22 24 26 28 30 32 34 36 38 40 42 44 46 48 50 52 54 56 58 60 62 64 66 68 70 72 74 76 78 80 82 84 86 88 90 92 94 96 98 100 "
     ]
    }
   ],
   "source": [
    "for i in range(1,101):\n",
    "    if i%2 !=0:\n",
    "        pass\n",
    "    else:\n",
    "        print(i, end=\" \")"
   ]
  },
  {
   "cell_type": "code",
   "execution_count": 10,
   "metadata": {},
   "outputs": [
    {
     "name": "stdout",
     "output_type": "stream",
     "text": [
      "# # # # \n",
      "# # # # \n",
      "# # # # \n",
      "# # # # \n"
     ]
    }
   ],
   "source": [
    "for i in range(4):\n",
    "    for j in range(4):\n",
    "        print(\"#\",end=\" \")\n",
    "    print( )"
   ]
  },
  {
   "cell_type": "code",
   "execution_count": 12,
   "metadata": {},
   "outputs": [
    {
     "name": "stdout",
     "output_type": "stream",
     "text": [
      "1 \n",
      "2 2 \n",
      "3 3 3 \n",
      "4 4 4 4 \n"
     ]
    }
   ],
   "source": [
    "for i in range(1,5):\n",
    "    for j in range(i):\n",
    "        print(i,end=\" \")\n",
    "    print()"
   ]
  },
  {
   "cell_type": "code",
   "execution_count": 14,
   "metadata": {},
   "outputs": [
    {
     "name": "stdout",
     "output_type": "stream",
     "text": [
      "\n",
      "#\n",
      "##\n",
      "###\n",
      "####\n"
     ]
    }
   ],
   "source": [
    "for i in range(5):\n",
    "    print(\"#\"*i)"
   ]
  },
  {
   "cell_type": "code",
   "execution_count": 15,
   "metadata": {},
   "outputs": [
    {
     "name": "stdout",
     "output_type": "stream",
     "text": [
      "####\n",
      "####\n",
      "####\n",
      "####\n",
      "####\n"
     ]
    }
   ],
   "source": [
    "for i in range(5):\n",
    "    print(\"#\"*4)"
   ]
  },
  {
   "cell_type": "markdown",
   "metadata": {},
   "source": [
    "# For Else"
   ]
  },
  {
   "cell_type": "code",
   "execution_count": 21,
   "metadata": {},
   "outputs": [],
   "source": [
    "nums = [12, 18, 34, 37, 41, 40, 45, 35]"
   ]
  },
  {
   "cell_type": "code",
   "execution_count": 17,
   "metadata": {},
   "outputs": [
    {
     "name": "stdout",
     "output_type": "stream",
     "text": [
      "Not Found\n",
      "Not Found\n",
      "Not Found\n",
      "35\n"
     ]
    }
   ],
   "source": [
    "for num in nums:\n",
    "    if num%5 ==0:\n",
    "        print(num)\n",
    "        break\n",
    "    else:\n",
    "        print(\"Not Found\")"
   ]
  },
  {
   "cell_type": "code",
   "execution_count": 22,
   "metadata": {},
   "outputs": [
    {
     "name": "stdout",
     "output_type": "stream",
     "text": [
      "40\n"
     ]
    }
   ],
   "source": [
    "for num in nums:\n",
    "    if num%5 ==0:\n",
    "        print(num)\n",
    "        break\n",
    "else:\n",
    "    print(\"Not Found\")"
   ]
  },
  {
   "cell_type": "code",
   "execution_count": 23,
   "metadata": {},
   "outputs": [
    {
     "name": "stdout",
     "output_type": "stream",
     "text": [
      "40\n",
      "45\n",
      "35\n",
      "Not Found\n"
     ]
    }
   ],
   "source": [
    "for num in nums:\n",
    "    if num%5 ==0:\n",
    "        print(num)\n",
    "else:\n",
    "    print(\"Not Found\")"
   ]
  },
  {
   "cell_type": "code",
   "execution_count": null,
   "metadata": {},
   "outputs": [],
   "source": []
  }
 ],
 "metadata": {
  "kernelspec": {
   "display_name": "Python 3",
   "language": "python",
   "name": "python3"
  },
  "language_info": {
   "codemirror_mode": {
    "name": "ipython",
    "version": 3
   },
   "file_extension": ".py",
   "mimetype": "text/x-python",
   "name": "python",
   "nbconvert_exporter": "python",
   "pygments_lexer": "ipython3",
   "version": "3.7.4"
  }
 },
 "nbformat": 4,
 "nbformat_minor": 2
}
