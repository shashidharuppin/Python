{
 "cells": [
  {
   "cell_type": "code",
   "execution_count": null,
   "metadata": {},
   "outputs": [],
   "source": [
    "mat = []\n",
    "\n",
    "mat.append(3 * [1])\n",
    "\n",
    "print(mat)"
   ]
  },
  {
   "cell_type": "code",
   "execution_count": null,
   "metadata": {},
   "outputs": [],
   "source": [
    "matrix = []\n",
    "matrix.append([3 * [1]])\n",
    "matrix.append([3 * [1]])\n",
    "matrix.append([3 * [1]])\n",
    "print(matrix)\n",
    "matrix[0] = 3\n",
    "print(matrix)\n"
   ]
  },
  {
   "cell_type": "code",
   "execution_count": null,
   "metadata": {},
   "outputs": [],
   "source": [
    "mat = [[1,2],[3,4]]\n",
    "\n",
    "maxRow = sum(mat[0])\n",
    "print(maxRow)"
   ]
  },
  {
   "cell_type": "code",
   "execution_count": null,
   "metadata": {},
   "outputs": [],
   "source": [
    "total = [sum(mat[x]) for x in range(len(mat))]\n",
    "total"
   ]
  },
  {
   "cell_type": "code",
   "execution_count": null,
   "metadata": {},
   "outputs": [],
   "source": [
    "from functools import reduce\n",
    "\n",
    "tot = [sum(mat[x]) for x in range(len(mat))]\n",
    "total = reduce(lambda x,y: x+y,tot)\n",
    "total\n",
    "#addtion = [sum(total[x]) for x in range(len(total))]\n",
    "#addition"
   ]
  },
  {
   "cell_type": "markdown",
   "metadata": {},
   "source": [
    "### Write a function that returns the sum of all the elements in a specified column in a matrix using the following header:"
   ]
  },
  {
   "cell_type": "code",
   "execution_count": null,
   "metadata": {},
   "outputs": [],
   "source": [
    "def main():  \n",
    "    row = 3\n",
    "    col = 4\n",
    "    m = []\n",
    "    for i in range(row):\n",
    "        mat = input(\"enter a 3 x 4 matrix for row: \").split()\n",
    "        lst = [float(x) for x in mat]\n",
    "        m.append(lst)\n",
    "    print(m)\n",
    "    sumColumn(m)\n",
    "\n",
    "def sumColumn(m): \n",
    "    for j in range(col):\n",
    "        sum = 0\n",
    "        for k in range(row):\n",
    "            sum += m[k][j]\n",
    "        print(\"sum of elements of column\",j,\"is\", sum)\n",
    "main()"
   ]
  },
  {
   "cell_type": "markdown",
   "metadata": {},
   "source": [
    "### (Sum the major diagonal in a matrix) Write a function that sums all the numbers of the major diagonal in an matrix of integers using the following header:"
   ]
  },
  {
   "cell_type": "code",
   "execution_count": null,
   "metadata": {},
   "outputs": [],
   "source": [
    "def main():  \n",
    "    row = 4\n",
    "    col = 4\n",
    "    m = []\n",
    "    for i in range(row):\n",
    "        mat = input(\"enter a 4 x 4 matrix for row: \").split()\n",
    "        lst = [float(x) for x in mat]\n",
    "        m.append(lst)\n",
    "    print(m)\n",
    "    sumMajorDiagonal(m)\n",
    "    \n",
    "def sumMajorDiagonal(m):\n",
    "    sum = 0\n",
    "    for i in range(row+1):\n",
    "        for k in range(col+1):\n",
    "            if i == k:\n",
    "                sum += m[i][k]\n",
    "    \n",
    "    print(\"Sum of matrix Diagnoal is: \", sum)\n",
    "    \n",
    "main()"
   ]
  },
  {
   "cell_type": "markdown",
   "metadata": {},
   "source": [
    "### Suppose the weekly hours for all employees are stored in a table. Each row records an employee’s seven-day work hours with seven columns. For example, the following table stores the work hours for eight employees. Write a program that displays employees and their total hours in decreasing order of the total hours."
   ]
  },
  {
   "cell_type": "code",
   "execution_count": null,
   "metadata": {},
   "outputs": [],
   "source": [
    "def main():\n",
    "    \n",
    "    workHours= [\n",
    "                  [2,4,3,5,8,8],\n",
    "                  [7,3,4,3,3,6],\n",
    "                  [2,3,4,5,6,7],\n",
    "                  [4,5,6,7,8,9],\n",
    "                  [1,2,3,4,5,6],\n",
    "                  [2,3,4,6,7,8],\n",
    "                  [4,1,3,2,5,6],\n",
    "                  [1,2,4,3,7,5]]\n",
    "    \n",
    "     # Create an array to store total weekly hours\n",
    "    weeklyHours = []\n",
    "    for i in range(len(workHours)):\n",
    "        weeklyHours.append([sum(workHours[i]), i])\n",
    "        \n",
    "    weeklyHours.sort(reverse =True)\n",
    "    print(weeklyHours)\n",
    "    # Display result\n",
    "    for empolyeeHours in weeklyHours:\n",
    "        print(\"Employee \" + str(empolyeeHours[1]) + \": \" + str(empolyeeHours[0]))\n",
    "main()"
   ]
  },
  {
   "cell_type": "markdown",
   "metadata": {},
   "source": [
    "### Write a function to multiply two matrices. The header of the function is:"
   ]
  },
  {
   "cell_type": "code",
   "execution_count": null,
   "metadata": {},
   "outputs": [],
   "source": [
    "mat_a = [1,2,3,4,5,6,7,8,9] \n",
    "mat_b = [1,2,3,4,5,6,7,8,9]\n",
    "\n",
    "a = [mat_a [x:x+3] for x in range(0,len(mat_a),3)]\n",
    "b = [mat_b [x:x+3] for x in range(0,len(mat_b),3)]\n",
    "\n",
    "print(mat_a)\n",
    "print(mat_b)\n",
    "\n",
    "mul = []\n",
    "for i in range(3):\n",
    "    for j in range(3):\n",
    "        mul.append(a[i][0]*b [0][j]+a[i][1]*b [1][j]+a[i][2]*b [2][j])\n",
    "        \n",
    "print(mul)"
   ]
  },
  {
   "cell_type": "markdown",
   "metadata": {},
   "source": [
    "### Largest rows and columns) Write a program that randomly fills in 0s and 1s into 4 x 4 a matrix, prints the matrix, and finds the rows and columns with the most1s."
   ]
  },
  {
   "cell_type": "code",
   "execution_count": null,
   "metadata": {},
   "outputs": [],
   "source": [
    "import random\n",
    "\n",
    "def main():  \n",
    "    row = 4\n",
    "    col = 4\n",
    "    mat = []\n",
    "    \n",
    "    for i in range(row):\n",
    "        mat.append([])\n",
    "        for j in range(col):\n",
    "            mat[i].append(random.randint(0,1))\n",
    "    print(mat)\n",
    "    \n",
    "    maxRow = sum(mat[0])\n",
    "    rowList =[0]\n",
    "    for j in range(4):\n",
    "        if sum(mat[j]) > maxRow:\n",
    "            maxRow = sum(mat[j])\n",
    "            rowList = [j]\n",
    "        elif maxRow == sum(mat[j]):\n",
    "            rowList.append(j)\n",
    "    \n",
    "    print(\"the largest row index:\", end=\" \")\n",
    "    for i in range(len(rowList)):\n",
    "        print(rowList[i],end=\" \")\n",
    "            \n",
    "    # Check columns\n",
    "    columnSum = sumColumn(mat, 0)\n",
    "    columnList = [0]\n",
    "    for j in range(1, 4):\n",
    "        if columnSum < sumColumn(mat, j):\n",
    "            columnSum = sumColumn(mat, j)\n",
    "            columnList = [j]\n",
    "        elif columnSum == sumColumn(mat, j):\n",
    "            columnList.append(j)\n",
    "            \n",
    "    print(\"\\nThe largest column index: \", end = \"\")\n",
    "    for j in range(len(columnList)):\n",
    "        print(columnList[j], end=\" \")\n",
    "    \n",
    "def sumColumn(m, j):\n",
    "    sum = 0\n",
    "    for i in range(4):\n",
    "        sum += m[i][j]\n",
    "    return sum\n",
    "main()"
   ]
  },
  {
   "cell_type": "markdown",
   "metadata": {},
   "source": [
    "### Game: nine heads and tails) Nine coins are placed in a 3 x 3 matrix with some face up and some face down. You can represent the state of the coins with the values 0 (heads) and 1 (tails)."
   ]
  },
  {
   "cell_type": "code",
   "execution_count": null,
   "metadata": {},
   "outputs": [],
   "source": [
    "\n",
    "num = int(input(\"enter a number between 0 and 511: \"))\n",
    "list1 = f'{num:09b}'\n",
    "list2 = []\n",
    "for i in range(len(list1)):\n",
    "    list2.append(list1[i])\n",
    "print(list2)\n",
    "\n",
    "for ind in range(0,len(list2)):\n",
    "    if list2[ind] == str(0):\n",
    "        print('H',end=\" \")\n",
    "    elif list2[ind] == str(1):\n",
    "        print('T', end=\" \")\n"
   ]
  },
  {
   "cell_type": "markdown",
   "metadata": {},
   "source": [
    "### Locate the largest element) Write the following function that returns the locationof the largest element in a two-dimensional list:"
   ]
  },
  {
   "cell_type": "code",
   "execution_count": null,
   "metadata": {},
   "outputs": [],
   "source": [
    "def main():  \n",
    "    row = 3\n",
    "    col = 4\n",
    "    m = []\n",
    "    for i in range(row):\n",
    "        mat = input(\"enter a 3 x 4 matrix for row: \").split()\n",
    "        lst = [float(x) for x in mat]\n",
    "        m.append(lst)\n",
    "    print(m)\n",
    "    locateLargest(m)\n",
    "    \n",
    "def locateLargest(a):\n",
    "    rowlarge = 0\n",
    "    collarge = 0\n",
    "    maxofm = a [0][0]\n",
    "    for i in range(3):\n",
    "        for j in range(4):\n",
    "            if a [i][j] > maxofm:\n",
    "                maxofm = a [i][j]\n",
    "                rowlarge = i\n",
    "                collarge = j\n",
    "    print(\"the location of largest element is at: (\",rowlarge,\"),\"collarge)\n",
    "\n",
    "main()"
   ]
  },
  {
   "cell_type": "markdown",
   "metadata": {},
   "source": [
    "### Write a program that prompts the user to enter the length of a square matrix, randomly fills in 0s and 1s into the matrix, prints the matrix, and finds the rows, columns, and major diagonal with all 0s or all 1s. Here is a sample run of the program:"
   ]
  },
  {
   "cell_type": "code",
   "execution_count": null,
   "metadata": {},
   "outputs": [],
   "source": [
    "import random\n",
    "\n",
    "def main():  \n",
    "    row = int(input(\"enter no of rows: \"))\n",
    "    col = int(input(\"enter no of columns: \"))\n",
    "    mat = []\n",
    "    \n",
    "    for i in range(row):\n",
    "        mat.append([])\n",
    "        for j in range(col):\n",
    "            mat[i].append(random.randint(0,1))\n",
    "    print(mat)\n",
    "    \n",
    "    zero_row =[]\n",
    "    for i in range(len(mat)):\n",
    "        if sum(mat[i])== 0:\n",
    "            zero_row.append([i])\n",
    "    if zero_row ==[]:\n",
    "        print(\"No all zeros in Row\")\n",
    "    else:\n",
    "        print(\"all zeros on row: \", zero_row)\n",
    "    \n",
    "    one_row =[]\n",
    "    for i in range(len(mat)):\n",
    "        if sum(mat[i])== 4:\n",
    "            one_row.append([i])\n",
    "    if one_row ==[]:\n",
    "        print(\"No all ones in Row\")\n",
    "    else:\n",
    "        print(\"all ones on row: \", one_row)\n",
    "    \n",
    "    total = 0\n",
    "    for i in range(row+1):\n",
    "        for k in range(col):\n",
    "            if i == k:\n",
    "                total += mat[i][k]\n",
    "    if total == 0 or total == 4 :\n",
    "        print(\"Same numbers in the major diagonal\")\n",
    "    else:\n",
    "        print(\"No Same numbers in the major diagonal\")\n",
    "main()"
   ]
  },
  {
   "cell_type": "code",
   "execution_count": null,
   "metadata": {},
   "outputs": [],
   "source": [
    "import random\n",
    "\n",
    "def main():  \n",
    "    row = int(input(\"enter no of rows: \"))\n",
    "    col = int(input(\"enter no of columns: \"))\n",
    "    mat = []\n",
    "    \n",
    "    for i in range(row):\n",
    "        mat.append([])\n",
    "        for j in range(col):\n",
    "            mat[i].append(random.randint(0,9))\n",
    "    print(mat)\n",
    "    \n",
    "    for i in range(row/2):\n",
    "        for j in range(col):\n",
    "main()"
   ]
  },
  {
   "cell_type": "code",
   "execution_count": null,
   "metadata": {},
   "outputs": [],
   "source": [
    "def main():  \n",
    "    row = 3\n",
    "    col = 3\n",
    "    m = []\n",
    "    for i in range(row):\n",
    "        mat = input(\"enter a 4 x 4 matrix for row: \").split()\n",
    "        lst = [float(x) for x in mat]\n",
    "        m.append(lst)\n",
    "    print(m)\n",
    "    \n",
    "    mat = []\n",
    "    for i in range(row):\n",
    "        mat.append(m[i].sort())\n",
    "    \n",
    "    print(mat)\n",
    "main()"
   ]
  },
  {
   "cell_type": "markdown",
   "metadata": {},
   "source": [
    "### Write a test program that prompts the user to enter a n x n matrix of numbers and displays a new row-sorted matrix"
   ]
  },
  {
   "cell_type": "code",
   "execution_count": null,
   "metadata": {},
   "outputs": [],
   "source": [
    "def main():\n",
    "    SIZE = 3\n",
    "    print(\"Enter a 3 by 3 matrix row by row: \")\n",
    "    m = []\n",
    "    \n",
    "    for i in range(SIZE):\n",
    "        line = input().split()\n",
    "        m.append([eval(x) for x in line])\n",
    "\n",
    "    print(\"The row-sorted list is \")\n",
    "    printMatrix(sortRows(m))\n",
    "\n",
    "def printMatrix(m):\n",
    "    for i in range(len(m)):\n",
    "        for j in range(len(m[i])):\n",
    "            print(m[i][j], end = \" \")\n",
    "        print()\n",
    "        \n",
    "def sortRows(m):\n",
    "    result = []\n",
    "    for row in m:\n",
    "         result.append(row)\n",
    "    \n",
    "    for row in result:\n",
    "        row.sort()\n",
    "\n",
    "    return result\n",
    "\n",
    "main()"
   ]
  },
  {
   "cell_type": "markdown",
   "metadata": {},
   "source": [
    "### Write a test program that prompts the user to enter a n x n matrix of numbers and displays a new column-sorted matrix"
   ]
  },
  {
   "cell_type": "code",
   "execution_count": null,
   "metadata": {},
   "outputs": [],
   "source": [
    "def main():\n",
    "    SIZE = 3\n",
    "    print(\"Enter a 3 by 3 matrix row by row: \")\n",
    "    m = []\n",
    "    \n",
    "    for i in range(SIZE):\n",
    "        line = input().split()\n",
    "        m.append([eval(x) for x in line])\n",
    "\n",
    "    print(\"The col-sorted list is \")\n",
    "    printMatrix(sortcolm(m))\n",
    "    \n",
    "def sortcolm(m):\n",
    "    check = []\n",
    "    for col in range(len(m)):\n",
    "        for row in m:\n",
    "            check.append(row[col])\n",
    "    for row in check:\n",
    "        row.sort()"
   ]
  },
  {
   "cell_type": "code",
   "execution_count": null,
   "metadata": {},
   "outputs": [],
   "source": [
    "m1 = [51,25,25,6,1,4,24,54,6]\n",
    "m2 = [51,22,25,6,1,4,24,54,6]\n",
    "\n",
    "if m1==m2:\n",
    "    print(\"Identical\")\n",
    "else:\n",
    "    print(\"Non-Identical\")"
   ]
  },
  {
   "cell_type": "code",
   "execution_count": null,
   "metadata": {},
   "outputs": [],
   "source": [
    "m1 = [51,25,25,6,1,4,24,54,6]\n",
    "m2 = [51,22,25,6,1,4,24,54,6]\n",
    "\n",
    "m1.sort()\n",
    "m2.sort()\n",
    "\n",
    "if m1==m2:\n",
    "    print(\"Identical\")\n",
    "else:\n",
    "    print(\"Non-Ientical\")"
   ]
  },
  {
   "cell_type": "code",
   "execution_count": null,
   "metadata": {},
   "outputs": [],
   "source": [
    "print(\"Enter the students name and scores: \", end=\" \")\n",
    "\n",
    "list_en = [input().split()]\n",
    "\n",
    "\n",
    "    \n",
    "    \n",
    "    \n"
   ]
  },
  {
   "cell_type": "markdown",
   "metadata": {},
   "source": [
    "### Given the names and grades for each student in a Physics class of  students, store them in a nested list and print the name(s) of any student(s) having the second lowest grade."
   ]
  },
  {
   "cell_type": "code",
   "execution_count": 22,
   "metadata": {},
   "outputs": [
    {
     "name": "stdout",
     "output_type": "stream",
     "text": [
      "Enter the number of students: 5\n",
      "Harry\n",
      "37.21\n",
      "Berry\n",
      "37.21\n",
      "Tina\n",
      "37.2\n",
      "Akriti\n",
      "41\n",
      "Harsh\n",
      "39\n",
      "[['Harry', 37.21], ['Berry', 37.21], ['Tina', 37.2], ['Akriti', 41.0], ['Harsh', 39.0]]\n"
     ]
    }
   ],
   "source": [
    "lst = []\n",
    "\n",
    "num = int(input())\n",
    "\n",
    "for i in range(num):\n",
    "    name = input()\n",
    "    score = input()\n",
    "    lst.append([name,float(score)])\n",
    "\n",
    "list_2 = sorted(lst, key = lambda x: x[1])\n",
    "lowest2 = list_2 [1][1]\n",
    "\n",
    "\n",
    "for i in range(2,len(list_2)):\n",
    "    if list_2[0][1] < lowest2:\n",
    "        break\n",
    "    if list_2[i][1]!=lowest2:\n",
    "        lowest2 = list_2[i][1]\n",
    "\n",
    "list3 = []\n",
    "for i in range(len(list_2)):\n",
    "    if list_2[i][1] == lowest2:\n",
    "        list3.append(list_2[i][0])\n",
    "\n",
    "list3.sort()\n",
    "\n",
    "for row in list3:\n",
    "    print(row)"
   ]
  },
  {
   "cell_type": "markdown",
   "metadata": {},
   "source": [
    "### Finding second smallest element in the list"
   ]
  },
  {
   "cell_type": "code",
   "execution_count": 39,
   "metadata": {},
   "outputs": [
    {
     "name": "stdout",
     "output_type": "stream",
     "text": [
      "Smallest element is: 19.0\n",
      "Second Smallest element is: 19.0\n"
     ]
    }
   ],
   "source": [
    "list1 = [['tka', 19.0], ['faf', 19.0], ['fa', 20.0], ['fad', 20.0], ['fadj', 40.0]]\n",
    "\n",
    "largest = list1[0][1] \n",
    "lowest = list1[0][1]  \n",
    "largest2 = None\n",
    "lowest2 = None\n",
    "\n",
    "for item in range(1,len(list1)):      \n",
    "    if list1 [item][1] < lowest:  \n",
    "        lowest2 = lowest \n",
    "        lowest = list1 [item][1]  \n",
    "    elif lowest2 == None or lowest2 > list1 [item][1]:  \n",
    "        lowest2 = list1 [item][1]  \n",
    "\n",
    "print(\"Smallest element is:\", lowest)  \n",
    "print(\"Second Smallest element is:\", lowest2)\n",
    "    \n",
    "\n"
   ]
  },
  {
   "cell_type": "code",
   "execution_count": null,
   "metadata": {},
   "outputs": [],
   "source": []
  }
 ],
 "metadata": {
  "kernelspec": {
   "display_name": "Python 3",
   "language": "python",
   "name": "python3"
  },
  "language_info": {
   "codemirror_mode": {
    "name": "ipython",
    "version": 3
   },
   "file_extension": ".py",
   "mimetype": "text/x-python",
   "name": "python",
   "nbconvert_exporter": "python",
   "pygments_lexer": "ipython3",
   "version": "3.7.4"
  }
 },
 "nbformat": 4,
 "nbformat_minor": 2
}
