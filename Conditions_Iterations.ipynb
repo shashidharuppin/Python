{
 "cells": [
  {
   "cell_type": "code",
   "execution_count": 4,
   "metadata": {},
   "outputs": [
    {
     "name": "stdout",
     "output_type": "stream",
     "text": [
      "enter vale for a b c: 1 3 1\n",
      "Invalid input\n"
     ]
    }
   ],
   "source": [
    "a, b, c = [int(a) for a in input(\"enter vale for a b c: \").split()]\n",
    "\n",
    "if ((a + b > c) and (b + c >a) and (a + c > b)):\n",
    "    print(\"the perimenter of triangle is: \", a+b+c)\n",
    "else:\n",
    "    print(\"Invalid input\")\n",
    "\n",
    "    "
   ]
  },
  {
   "cell_type": "code",
   "execution_count": 7,
   "metadata": {},
   "outputs": [
    {
     "name": "stdout",
     "output_type": "stream",
     "text": [
      "enter vale for x2 y2: 9 9\n",
      "Out of circle\n"
     ]
    }
   ],
   "source": [
    "import math\n",
    "x2, y2 = [int(x) for x in input(\"enter vale for x2 y2: \").split()]\n",
    "x1, y1 = 0, 0\n",
    "r = 10\n",
    "dist = math.sqrt((x2-x1)**2+(y2-y1)**2)\n",
    "\n",
    "if dist > 10:\n",
    "    print (\"Out of circle\")\n",
    "elif dist ==10:\n",
    "    print(\"on the circle\")\n",
    "else:\n",
    "    print(\"inside the circle\")"
   ]
  },
  {
   "cell_type": "code",
   "execution_count": 9,
   "metadata": {},
   "outputs": [
    {
     "name": "stdout",
     "output_type": "stream",
     "text": [
      "enter vale for x2 y2: 6 4\n",
      "outside the square\n"
     ]
    }
   ],
   "source": [
    "import math\n",
    "x2, y2 = [int(x) for x in input(\"enter vale for x2 y2: \").split()]\n",
    "x1, y1 = 0, 0\n",
    "width = 10\n",
    "height = 5\n",
    "\n",
    "if (x2 < width/2) and (y2< height/2):\n",
    "    print(\"inside the rectangle\")\n",
    "else:\n",
    "    print(\"outside the rectangle\")\n"
   ]
  },
  {
   "cell_type": "code",
   "execution_count": 11,
   "metadata": {},
   "outputs": [
    {
     "name": "stdout",
     "output_type": "stream",
     "text": [
      "enter a three digit number134\n",
      "80\n"
     ]
    }
   ],
   "source": [
    "x = int(input(\"enter a three digit number\"))\n",
    "sum = 0\n",
    "\n",
    "while (x > 0):\n",
    "    rem = x % 10\n",
    "    num = rem *10 + sum\n",
    "    x = x//10\n",
    "\n",
    "print(sum)\n",
    "\n"
   ]
  },
  {
   "cell_type": "code",
   "execution_count": null,
   "metadata": {},
   "outputs": [
    {
     "name": "stdout",
     "output_type": "stream",
     "text": [
      "enter the number: 111\n"
     ]
    }
   ],
   "source": [
    "num = int(input(\"enter the number: \"))\n",
    "rev = 0\n",
    "temp = num\n",
    "\n",
    "while (num > 0):\n",
    "    num1 = temp % 10\n",
    "    rev = (rev*10) + num1\n",
    "    temp = temp //10\n",
    "\n",
    "print(rev)\n",
    "\n",
    "if (num == rev):\n",
    "    print(\"palindrome\")\n",
    "else:\n",
    "    print(\"Not palindrome\")"
   ]
  },
  {
   "cell_type": "code",
   "execution_count": null,
   "metadata": {},
   "outputs": [],
   "source": [
    "x1, y1, w1, h1 = [int(x) for x in input(\"enter vale for x1 y1 w1 h1: \").split()]\n",
    "x2, y2, w2, h2 = [int(x) for x in input(\"enter vale for x2 y2 w2 h2: \").split()]\n",
    "\n",
    "if ( (x2+(w2/2)-x1 < w1/2) and (y2+(h2/2)-y1 < h1/2)):\n",
    "    print(\"r2 inside r1\")"
   ]
  },
  {
   "cell_type": "code",
   "execution_count": null,
   "metadata": {},
   "outputs": [],
   "source": [
    "x1, y1, w1, h1 = [int(x) for x in input(\"enter vale for x1 y1 w1 h1: \").split()]\n",
    "x2, y2, w2, h2 = [int(x) for x in input(\"enter vale for x2 y2 w2 h2: \").split()]"
   ]
  },
  {
   "cell_type": "code",
   "execution_count": null,
   "metadata": {},
   "outputs": [],
   "source": []
  }
 ],
 "metadata": {
  "kernelspec": {
   "display_name": "Python 3",
   "language": "python",
   "name": "python3"
  },
  "language_info": {
   "codemirror_mode": {
    "name": "ipython",
    "version": 3
   },
   "file_extension": ".py",
   "mimetype": "text/x-python",
   "name": "python",
   "nbconvert_exporter": "python",
   "pygments_lexer": "ipython3",
   "version": "3.7.4"
  }
 },
 "nbformat": 4,
 "nbformat_minor": 2
}
