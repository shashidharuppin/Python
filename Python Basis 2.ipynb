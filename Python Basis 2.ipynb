{
 "cells": [
  {
   "cell_type": "markdown",
   "metadata": {},
   "source": [
    "a = 5\n",
    "b= 6\n",
    "\n",
    "temp = a\n",
    "a = b\n",
    "b = temp\n",
    "\n",
    "print(\"Value of a is: \",a)\n",
    "print(\"Value of b is: \",b)"
   ]
  },
  {
   "cell_type": "code",
   "execution_count": 2,
   "metadata": {},
   "outputs": [],
   "source": [
    "a, b, c, d, e = 1, 2, 3, 4, 5"
   ]
  },
  {
   "cell_type": "code",
   "execution_count": 3,
   "metadata": {},
   "outputs": [
    {
     "data": {
      "text/plain": [
       "1"
      ]
     },
     "execution_count": 3,
     "metadata": {},
     "output_type": "execute_result"
    }
   ],
   "source": [
    "a"
   ]
  },
  {
   "cell_type": "code",
   "execution_count": 4,
   "metadata": {},
   "outputs": [],
   "source": [
    "a,b = b, a\n"
   ]
  },
  {
   "cell_type": "code",
   "execution_count": 5,
   "metadata": {},
   "outputs": [
    {
     "data": {
      "text/plain": [
       "2"
      ]
     },
     "execution_count": 5,
     "metadata": {},
     "output_type": "execute_result"
    }
   ],
   "source": [
    "a"
   ]
  },
  {
   "cell_type": "code",
   "execution_count": 14,
   "metadata": {},
   "outputs": [
    {
     "name": "stdout",
     "output_type": "stream",
     "text": [
      "enter your age and date of birth if youre male else just enter 01\n",
      "1\n"
     ]
    }
   ],
   "source": [
    "task = int(input(\"enter your age and date of birth if youre male else just enter 0\"))\n",
    "\n",
    "if task == 0:\n",
    "    print(\"Not Applicable\")\n",
    "    \n",
    "if task == 1:\n",
    "    print(task)\n",
    "    "
   ]
  },
  {
   "cell_type": "code",
   "execution_count": 11,
   "metadata": {},
   "outputs": [
    {
     "name": "stdout",
     "output_type": "stream",
     "text": [
      "enter the height in m: 2\n",
      "enter the weight in Kg: 70\n",
      "\n",
      "The BMI of the user is: 17.5\n",
      "You are underweight\n"
     ]
    }
   ],
   "source": [
    "#BMI\n",
    "\n",
    "height = float(input(\"enter the height in m: \"))\n",
    "weight = float(input(\"enter the weight in Kg: \"))\n",
    "\n",
    "BMI = weight / (height**2)\n",
    "\n",
    "print(\"\\nThe BMI of the user is: {}\".format(BMI))\n",
    "\n",
    "if BMI < 24:\n",
    "    print(\"You are underweight\")\n",
    "    \n",
    "if BMI >24 and BMI < 26:\n",
    "    print(\"You are fit\")\n",
    "\n",
    "if BMI > 26:\n",
    "    print(\"You are over weight\")\n",
    "    "
   ]
  },
  {
   "cell_type": "code",
   "execution_count": null,
   "metadata": {},
   "outputs": [],
   "source": []
  },
  {
   "cell_type": "code",
   "execution_count": 13,
   "metadata": {},
   "outputs": [
    {
     "name": "stdout",
     "output_type": "stream",
     "text": [
      "enter the height in m: 1.5\n",
      "enter the weight in Kg: 80\n",
      "\n",
      "The BMI of the user is: 35.55555555555556\n",
      "You are over weight\n"
     ]
    }
   ],
   "source": [
    "#BMI\n",
    "\n",
    "height = float(input(\"enter the height in m: \"))\n",
    "weight = float(input(\"enter the weight in Kg: \"))\n",
    "\n",
    "BMI = weight / (height**2)\n",
    "\n",
    "print(\"\\nThe BMI of the user is: {}\".format(BMI))\n",
    "\n",
    "if BMI < 24:\n",
    "    print(\"You are underweight\")\n",
    "    \n",
    "if BMI > 24 and BMI < 26:\n",
    "    print(\"You are fit\")\n",
    "\n",
    "else:\n",
    "    print(\"You are over weight\")\n",
    "    "
   ]
  },
  {
   "cell_type": "code",
   "execution_count": 15,
   "metadata": {},
   "outputs": [
    {
     "name": "stdout",
     "output_type": "stream",
     "text": [
      "enter any letter from your code4\n",
      "\n",
      "Code is not in binary\n"
     ]
    }
   ],
   "source": [
    "code = input(\"enter any letter from your code\")\n",
    "\n",
    "if code == '0' or code == '1':\n",
    "    print(\"\\ncode is in binary\")\n",
    "\n",
    "else:\n",
    "    print(\"\\nCode is not in binary\")"
   ]
  },
  {
   "cell_type": "code",
   "execution_count": null,
   "metadata": {},
   "outputs": [],
   "source": []
  },
  {
   "cell_type": "code",
   "execution_count": 17,
   "metadata": {},
   "outputs": [
    {
     "name": "stdout",
     "output_type": "stream",
     "text": [
      "enter any letter from your code: $%#\n",
      "\n",
      "Code is not in binary\n"
     ]
    }
   ],
   "source": [
    "code = input(\"enter any letter from your code: \")\n",
    "\n",
    "if '0' in code or '1' in code:\n",
    "    print(\"\\ncode is in binary\")\n",
    "\n",
    "else:\n",
    "    print(\"\\nCode is not in binary\")"
   ]
  },
  {
   "cell_type": "code",
   "execution_count": 1,
   "metadata": {},
   "outputs": [
    {
     "name": "stdout",
     "output_type": "stream",
     "text": [
      "160.9\n"
     ]
    }
   ],
   "source": [
    "miles = 100\n",
    "kilometers = miles * 1.609\n",
    "\n",
    "print(kilometers)"
   ]
  },
  {
   "cell_type": "code",
   "execution_count": 2,
   "metadata": {},
   "outputs": [
    {
     "name": "stdout",
     "output_type": "stream",
     "text": [
      "enter the value for radius: 5\n",
      "the area of circe is 78.53975\n"
     ]
    }
   ],
   "source": [
    "radius = int(input(\"enter the value for radius: \"))\n",
    "\n",
    "area = radius**2 * 3.14159\n",
    "\n",
    "print(\"the area of circe is\",area)"
   ]
  },
  {
   "cell_type": "code",
   "execution_count": 3,
   "metadata": {},
   "outputs": [
    {
     "name": "stdout",
     "output_type": "stream",
     "text": [
      "the area of circle of raduis 5 is 78.53975\n"
     ]
    }
   ],
   "source": [
    "print(\"the area of circle of raduis {} is {}\".format(radius,area))"
   ]
  },
  {
   "cell_type": "raw",
   "metadata": {},
   "source": [
    "radius = eval(input(\"Enter a radius:\"))"
   ]
  },
  {
   "cell_type": "code",
   "execution_count": 13,
   "metadata": {},
   "outputs": [
    {
     "name": "stdout",
     "output_type": "stream",
     "text": [
      "enter values seperated by commas:1 2 3\n"
     ]
    }
   ],
   "source": [
    "a,b,c = input(\"enter values seperated by commas:\").split()"
   ]
  },
  {
   "cell_type": "code",
   "execution_count": 14,
   "metadata": {},
   "outputs": [
    {
     "data": {
      "text/plain": [
       "'1'"
      ]
     },
     "execution_count": 14,
     "metadata": {},
     "output_type": "execute_result"
    }
   ],
   "source": [
    "a"
   ]
  },
  {
   "cell_type": "code",
   "execution_count": 16,
   "metadata": {},
   "outputs": [
    {
     "data": {
      "text/plain": [
       "('2', '3')"
      ]
     },
     "execution_count": 16,
     "metadata": {},
     "output_type": "execute_result"
    }
   ],
   "source": [
    "b,c"
   ]
  },
  {
   "cell_type": "code",
   "execution_count": 18,
   "metadata": {},
   "outputs": [
    {
     "name": "stdout",
     "output_type": "stream",
     "text": [
      "Enter two value: 2 5\n"
     ]
    },
    {
     "ename": "TypeError",
     "evalue": "int() argument must be a string, a bytes-like object or a number, not 'list'",
     "output_type": "error",
     "traceback": [
      "\u001b[1;31m---------------------------------------------------------------------------\u001b[0m",
      "\u001b[1;31mTypeError\u001b[0m                                 Traceback (most recent call last)",
      "\u001b[1;32m<ipython-input-18-f0d825a69372>\u001b[0m in \u001b[0;36m<module>\u001b[1;34m\u001b[0m\n\u001b[1;32m----> 1\u001b[1;33m \u001b[0mx\u001b[0m\u001b[1;33m,\u001b[0m \u001b[0my\u001b[0m \u001b[1;33m=\u001b[0m \u001b[0mint\u001b[0m\u001b[1;33m(\u001b[0m\u001b[0minput\u001b[0m\u001b[1;33m(\u001b[0m\u001b[1;34m\"Enter two value: \"\u001b[0m\u001b[1;33m)\u001b[0m\u001b[1;33m.\u001b[0m\u001b[0msplit\u001b[0m\u001b[1;33m(\u001b[0m\u001b[1;33m)\u001b[0m\u001b[1;33m)\u001b[0m\u001b[1;33m\u001b[0m\u001b[1;33m\u001b[0m\u001b[0m\n\u001b[0m\u001b[0;32m      2\u001b[0m \u001b[0mprint\u001b[0m\u001b[1;33m(\u001b[0m\u001b[1;34m\"First Number is: \"\u001b[0m\u001b[1;33m,\u001b[0m \u001b[0mx\u001b[0m\u001b[1;33m)\u001b[0m\u001b[1;33m\u001b[0m\u001b[1;33m\u001b[0m\u001b[0m\n\u001b[0;32m      3\u001b[0m \u001b[0mprint\u001b[0m\u001b[1;33m(\u001b[0m\u001b[1;34m\"Second Number is: \"\u001b[0m\u001b[1;33m,\u001b[0m \u001b[0my\u001b[0m\u001b[1;33m)\u001b[0m\u001b[1;33m\u001b[0m\u001b[1;33m\u001b[0m\u001b[0m\n",
      "\u001b[1;31mTypeError\u001b[0m: int() argument must be a string, a bytes-like object or a number, not 'list'"
     ]
    }
   ],
   "source": [
    "x, y = int(input(\"Enter two value: \").split()) \n",
    "print(\"First Number is: \", x) \n",
    "print(\"Second Number is: \", y) "
   ]
  },
  {
   "cell_type": "code",
   "execution_count": 20,
   "metadata": {},
   "outputs": [
    {
     "name": "stdout",
     "output_type": "stream",
     "text": [
      "enter three number1,2,3\n"
     ]
    }
   ],
   "source": [
    "x,y,z = eval(input(\"enter three number\"))"
   ]
  },
  {
   "cell_type": "code",
   "execution_count": 21,
   "metadata": {},
   "outputs": [
    {
     "name": "stdout",
     "output_type": "stream",
     "text": [
      "Enter a two value: 1 2\n"
     ]
    }
   ],
   "source": [
    "x, y = input(\"Enter a two value: \").split()"
   ]
  },
  {
   "cell_type": "code",
   "execution_count": 22,
   "metadata": {},
   "outputs": [
    {
     "name": "stdout",
     "output_type": "stream",
     "text": [
      "Enter a two value: 1,2\n"
     ]
    },
    {
     "ename": "ValueError",
     "evalue": "not enough values to unpack (expected 2, got 1)",
     "output_type": "error",
     "traceback": [
      "\u001b[1;31m---------------------------------------------------------------------------\u001b[0m",
      "\u001b[1;31mValueError\u001b[0m                                Traceback (most recent call last)",
      "\u001b[1;32m<ipython-input-22-24347e673878>\u001b[0m in \u001b[0;36m<module>\u001b[1;34m\u001b[0m\n\u001b[1;32m----> 1\u001b[1;33m \u001b[0mx\u001b[0m\u001b[1;33m,\u001b[0m \u001b[0my\u001b[0m \u001b[1;33m=\u001b[0m \u001b[0minput\u001b[0m\u001b[1;33m(\u001b[0m\u001b[1;34m\"Enter a two value: \"\u001b[0m\u001b[1;33m)\u001b[0m\u001b[1;33m.\u001b[0m\u001b[0msplit\u001b[0m\u001b[1;33m(\u001b[0m\u001b[1;33m)\u001b[0m\u001b[1;33m\u001b[0m\u001b[1;33m\u001b[0m\u001b[0m\n\u001b[0m",
      "\u001b[1;31mValueError\u001b[0m: not enough values to unpack (expected 2, got 1)"
     ]
    }
   ],
   "source": [
    "x, y = input(\"Enter a two value: \").split()"
   ]
  },
  {
   "cell_type": "code",
   "execution_count": 1,
   "metadata": {},
   "outputs": [
    {
     "data": {
      "text/plain": [
       "97"
      ]
     },
     "execution_count": 1,
     "metadata": {},
     "output_type": "execute_result"
    }
   ],
   "source": [
    "ord('a')"
   ]
  },
  {
   "cell_type": "code",
   "execution_count": 3,
   "metadata": {},
   "outputs": [
    {
     "data": {
      "text/plain": [
       "'a'"
      ]
     },
     "execution_count": 3,
     "metadata": {},
     "output_type": "execute_result"
    }
   ],
   "source": [
    "chr(97)"
   ]
  },
  {
   "cell_type": "code",
   "execution_count": 4,
   "metadata": {},
   "outputs": [
    {
     "name": "stdout",
     "output_type": "stream",
     "text": [
      "AAAAA BBBBBB   CCCCCCC$$$DD\n",
      "Shashi\n"
     ]
    }
   ],
   "source": [
    "print(\"AAAAA\", end=\" \")\n",
    "print(\"BBBBBB\", end=\"   \")\n",
    "print(\"CCCCCCC\",end=\"$$$\")\n",
    "print(\"DD\",end=\"\\n\")\n",
    "print(\"Shashi\")\n"
   ]
  },
  {
   "cell_type": "code",
   "execution_count": 6,
   "metadata": {},
   "outputs": [],
   "source": [
    "title = 'chapter' + '1'\n"
   ]
  },
  {
   "cell_type": "code",
   "execution_count": 7,
   "metadata": {},
   "outputs": [
    {
     "data": {
      "text/plain": [
       "'chapter1'"
      ]
     },
     "execution_count": 7,
     "metadata": {},
     "output_type": "execute_result"
    }
   ],
   "source": [
    "title"
   ]
  },
  {
   "cell_type": "code",
   "execution_count": 12,
   "metadata": {},
   "outputs": [
    {
     "name": "stdout",
     "output_type": "stream",
     "text": [
      "   1234.57\n"
     ]
    }
   ],
   "source": [
    "print(format(1234.5678023437,\"10.2f\"))"
   ]
  },
  {
   "cell_type": "code",
   "execution_count": null,
   "metadata": {},
   "outputs": [],
   "source": []
  },
  {
   "cell_type": "code",
   "execution_count": 15,
   "metadata": {},
   "outputs": [
    {
     "name": "stdout",
     "output_type": "stream",
     "text": [
      "1.23457e+03\n"
     ]
    }
   ],
   "source": [
    "print(format(1234.5678023437,\".5e\"))"
   ]
  },
  {
   "cell_type": "code",
   "execution_count": 16,
   "metadata": {},
   "outputs": [
    {
     "name": "stdout",
     "output_type": "stream",
     "text": [
      "123456.78%\n"
     ]
    }
   ],
   "source": [
    "print(format(1234.5678023437,\"10.2%\"))"
   ]
  },
  {
   "cell_type": "code",
   "execution_count": 19,
   "metadata": {},
   "outputs": [
    {
     "name": "stdout",
     "output_type": "stream",
     "text": [
      "welcome to python\n"
     ]
    }
   ],
   "source": [
    "print(format(\"welcome to python\",\"16s\"))"
   ]
  },
  {
   "cell_type": "code",
   "execution_count": 23,
   "metadata": {},
   "outputs": [
    {
     "name": "stdout",
     "output_type": "stream",
     "text": [
      "enter the radius: 5.5\n",
      "the are of pentagon is: 108.61104514195797\n"
     ]
    }
   ],
   "source": [
    "import math\n",
    "r = float(input(\"enter the radius: \"))\n",
    "pi= 3.14159\n",
    "s = 2 *r * math.sin(pi/5)\n",
    "area = (3 * math.sqrt(3))/ 2 * (s**2)\n",
    "\n",
    "print(\"the are of pentagon is:\",area)\n",
    "\n"
   ]
  },
  {
   "cell_type": "code",
   "execution_count": 26,
   "metadata": {},
   "outputs": [
    {
     "name": "stdout",
     "output_type": "stream",
     "text": [
      "enter a number between 0 and 127: 69\n",
      "E\n"
     ]
    }
   ],
   "source": [
    "x = int(input(\"enter a number between 0 and 127: \"))\n",
    "\n",
    "value = chr(x)\n",
    "print(value)"
   ]
  },
  {
   "cell_type": "code",
   "execution_count": 27,
   "metadata": {},
   "outputs": [
    {
     "name": "stdout",
     "output_type": "stream",
     "text": [
      "2/100\n",
      "2/100\n"
     ]
    }
   ],
   "source": [
    "x = input()\n",
    "print(x)\n"
   ]
  },
  {
   "cell_type": "code",
   "execution_count": 28,
   "metadata": {},
   "outputs": [
    {
     "data": {
      "text/plain": [
       "5"
      ]
     },
     "execution_count": 28,
     "metadata": {},
     "output_type": "execute_result"
    }
   ],
   "source": [
    "3125%10"
   ]
  },
  {
   "cell_type": "code",
   "execution_count": 29,
   "metadata": {},
   "outputs": [
    {
     "data": {
      "text/plain": [
       "312.5"
      ]
     },
     "execution_count": 29,
     "metadata": {},
     "output_type": "execute_result"
    }
   ],
   "source": [
    "3125/10"
   ]
  },
  {
   "cell_type": "code",
   "execution_count": 32,
   "metadata": {},
   "outputs": [
    {
     "data": {
      "text/plain": [
       "312"
      ]
     },
     "execution_count": 32,
     "metadata": {},
     "output_type": "execute_result"
    }
   ],
   "source": [
    "3125//10"
   ]
  },
  {
   "cell_type": "code",
   "execution_count": 40,
   "metadata": {},
   "outputs": [
    {
     "name": "stdout",
     "output_type": "stream",
     "text": [
      "enter the number: 5793\n",
      "3975\n"
     ]
    }
   ],
   "source": [
    "num = int(input(\"enter the number: \"))\n",
    "rev = 0\n",
    "\n",
    "while (num > 0):\n",
    "    num1 = num%10\n",
    "    rev = (rev*10) + num1\n",
    "    num = num //10\n",
    "\n",
    "print(rev)\n"
   ]
  },
  {
   "cell_type": "code",
   "execution_count": 1,
   "metadata": {},
   "outputs": [
    {
     "data": {
      "text/plain": [
       "65"
      ]
     },
     "execution_count": 1,
     "metadata": {},
     "output_type": "execute_result"
    }
   ],
   "source": [
    "ord('A')"
   ]
  },
  {
   "cell_type": "code",
   "execution_count": 5,
   "metadata": {},
   "outputs": [
    {
     "name": "stdout",
     "output_type": "stream",
     "text": [
      "enter any year:2002\n",
      "2002 is leapyear False\n"
     ]
    }
   ],
   "source": [
    "year = int(input(\"enter any year:\"))\n",
    "\n",
    "isleapyear = (year % 4 == 0 and year % 100 !=0) or (year % 400 == 0)\n",
    "\n",
    "print (year,\"is leapyear\",isleapyear)"
   ]
  },
  {
   "cell_type": "code",
   "execution_count": null,
   "metadata": {},
   "outputs": [],
   "source": [
    "import math\n",
    "a, b, c = input(\"enter three integer: \").split()\n",
    "\n",
    "r1 = (-b + math.sqrt(b**2 - 4*a*c))/2*a\n"
   ]
  },
  {
   "cell_type": "code",
   "execution_count": 16,
   "metadata": {},
   "outputs": [
    {
     "name": "stdout",
     "output_type": "stream",
     "text": [
      "enter three integer: 1 3 1\n"
     ]
    },
    {
     "ename": "ValueError",
     "evalue": "invalid literal for int() with base 10: '1 3 1'",
     "output_type": "error",
     "traceback": [
      "\u001b[1;31m---------------------------------------------------------------------------\u001b[0m",
      "\u001b[1;31mValueError\u001b[0m                                Traceback (most recent call last)",
      "\u001b[1;32m<ipython-input-16-911232d1488e>\u001b[0m in \u001b[0;36m<module>\u001b[1;34m\u001b[0m\n\u001b[0;32m      1\u001b[0m \u001b[1;32mimport\u001b[0m \u001b[0mmath\u001b[0m\u001b[1;33m\u001b[0m\u001b[1;33m\u001b[0m\u001b[0m\n\u001b[1;32m----> 2\u001b[1;33m \u001b[0ma\u001b[0m\u001b[1;33m,\u001b[0m \u001b[0mb\u001b[0m\u001b[1;33m,\u001b[0m \u001b[0mc\u001b[0m \u001b[1;33m=\u001b[0m \u001b[1;33m(\u001b[0m\u001b[0mint\u001b[0m\u001b[1;33m(\u001b[0m\u001b[0minput\u001b[0m\u001b[1;33m(\u001b[0m\u001b[1;34m\"enter three integer: \"\u001b[0m\u001b[1;33m)\u001b[0m\u001b[1;33m)\u001b[0m\u001b[1;33m.\u001b[0m\u001b[0msplit\u001b[0m\u001b[1;33m(\u001b[0m\u001b[1;33m)\u001b[0m\u001b[1;33m)\u001b[0m\u001b[1;33m\u001b[0m\u001b[1;33m\u001b[0m\u001b[0m\n\u001b[0m\u001b[0;32m      3\u001b[0m \u001b[1;33m\u001b[0m\u001b[0m\n\u001b[0;32m      4\u001b[0m \u001b[0mr1\u001b[0m \u001b[1;33m=\u001b[0m \u001b[1;33m(\u001b[0m\u001b[1;33m-\u001b[0m\u001b[0mb\u001b[0m \u001b[1;33m+\u001b[0m \u001b[0mmath\u001b[0m\u001b[1;33m.\u001b[0m\u001b[0msqrt\u001b[0m\u001b[1;33m(\u001b[0m\u001b[0mb\u001b[0m\u001b[1;33m**\u001b[0m\u001b[1;36m2\u001b[0m \u001b[1;33m-\u001b[0m \u001b[1;36m4\u001b[0m\u001b[1;33m*\u001b[0m\u001b[0ma\u001b[0m\u001b[1;33m*\u001b[0m\u001b[0mc\u001b[0m\u001b[1;33m)\u001b[0m\u001b[1;33m)\u001b[0m\u001b[1;33m/\u001b[0m\u001b[1;36m2\u001b[0m\u001b[1;33m*\u001b[0m\u001b[0ma\u001b[0m\u001b[1;33m\u001b[0m\u001b[1;33m\u001b[0m\u001b[0m\n\u001b[0;32m      5\u001b[0m \u001b[0mr2\u001b[0m \u001b[1;33m=\u001b[0m \u001b[1;33m(\u001b[0m\u001b[1;33m-\u001b[0m\u001b[0mb\u001b[0m \u001b[1;33m-\u001b[0m \u001b[0mmath\u001b[0m\u001b[1;33m.\u001b[0m\u001b[0msqrt\u001b[0m\u001b[1;33m(\u001b[0m\u001b[0mb\u001b[0m\u001b[1;33m**\u001b[0m\u001b[1;36m2\u001b[0m \u001b[1;33m-\u001b[0m \u001b[1;36m4\u001b[0m\u001b[1;33m*\u001b[0m\u001b[0ma\u001b[0m\u001b[1;33m*\u001b[0m\u001b[0mc\u001b[0m\u001b[1;33m)\u001b[0m\u001b[1;33m)\u001b[0m\u001b[1;33m/\u001b[0m\u001b[1;36m2\u001b[0m\u001b[1;33m*\u001b[0m\u001b[0ma\u001b[0m\u001b[1;33m\u001b[0m\u001b[1;33m\u001b[0m\u001b[0m\n",
      "\u001b[1;31mValueError\u001b[0m: invalid literal for int() with base 10: '1 3 1'"
     ]
    }
   ],
   "source": [
    "import math\n",
    "a, b, c = input(\"enter three integer: \").split()\n",
    "\n",
    "r1 = (-b + math.sqrt(b**2 - 4*a*c))/2*a\n",
    "r2 = (-b - math.sqrt(b**2 - 4*a*c))/2*a\n",
    "\n",
    "if ((b**2- 4*a*c) > 0):\n",
    "    print (\"the roots are \", r1, r2)\n",
    "elif ((b**2-4*a*c) == 0):\n",
    "    print (\"only one root \", r1)\n",
    "else:\n",
    "    print (\" The equation has no real roots\")"
   ]
  },
  {
   "cell_type": "code",
   "execution_count": 21,
   "metadata": {},
   "outputs": [
    {
     "name": "stdout",
     "output_type": "stream",
     "text": [
      "Enter three value: 1 2 3\n",
      " The equation has no real roots\n"
     ]
    }
   ],
   "source": [
    "import math\n",
    "a, b, c = [int(a) for a in input(\"Enter three value: \").split()]\n",
    "\n",
    "if ((b**2- 4*a*c) > 0):\n",
    "    r1 = (-b + math.sqrt(b**2 - 4*a*c))/2*a\n",
    "    r2 = (-b - math.sqrt(b**2 - 4*a*c))/2*a\n",
    "    print (\"the roots are \", r1, r2)\n",
    "elif ((b**2-4*a*c) == 0):\n",
    "    r1 = (-b + math.sqrt(b**2 - 4*a*c))/2*a\n",
    "    print (\"only one root \", r1)\n",
    "else:\n",
    "    print (\" The equation has no real roots\")"
   ]
  },
  {
   "cell_type": "code",
   "execution_count": 4,
   "metadata": {},
   "outputs": [
    {
     "name": "stdout",
     "output_type": "stream",
     "text": [
      "enter sum of 25 and 2751\n",
      "the sum of  25 and  27 is 52 False\n"
     ]
    }
   ],
   "source": [
    "import random\n",
    "num1 = random.randint(0,99)\n",
    "num2 = random.randint(0,99)\n",
    "\n",
    "sum = num1 + num2 \n",
    "\n",
    "sum2= int(input(\"enter sum of \" + str(num1) + \" and \" + str(num2)))\n",
    "\n",
    "print(\"the sum of \", num1, \"and \", num2, \"is\", sum, sum == sum2)"
   ]
  },
  {
   "cell_type": "code",
   "execution_count": 6,
   "metadata": {},
   "outputs": [
    {
     "name": "stdout",
     "output_type": "stream",
     "text": [
      "enter the todays day: 0\n",
      "enter the number of days since today: 6\n",
      "future day is Saturday\n"
     ]
    }
   ],
   "source": [
    "todayday = int(input(\"enter the todays day: \"))\n",
    "futureday = int(input(\"enter the number of days since today: \"))\n",
    "\n",
    "sum = todayday + futureday\n",
    "\n",
    "if sum % 7 ==0:\n",
    "    print(\"future day is: Sunday\")\n",
    "elif sum % 7 ==1:\n",
    "    print(\"future day is Monday\")\n",
    "elif sum % 7 ==2:\n",
    "    print(\"future day is Tuesday\")\n",
    "elif sum % 7 ==3:\n",
    "    print(\"future day is Wednesday\")\n",
    "elif sum % 7 ==4:\n",
    "    print(\"future day is Thursday\")\n",
    "elif sum % 7 ==5:\n",
    "    print(\"future day is Friday\")\n",
    "else:\n",
    "    print(\"future day is Saturday\")\n"
   ]
  },
  {
   "cell_type": "code",
   "execution_count": null,
   "metadata": {},
   "outputs": [],
   "source": []
  }
 ],
 "metadata": {
  "kernelspec": {
   "display_name": "Python 3",
   "language": "python",
   "name": "python3"
  },
  "language_info": {
   "codemirror_mode": {
    "name": "ipython",
    "version": 3
   },
   "file_extension": ".py",
   "mimetype": "text/x-python",
   "name": "python",
   "nbconvert_exporter": "python",
   "pygments_lexer": "ipython3",
   "version": "3.7.4"
  }
 },
 "nbformat": 4,
 "nbformat_minor": 2
}
