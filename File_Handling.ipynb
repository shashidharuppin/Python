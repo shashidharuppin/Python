{
 "cells": [
  {
   "cell_type": "code",
   "execution_count": 1,
   "metadata": {},
   "outputs": [
    {
     "name": "stdout",
     "output_type": "stream",
     "text": [
      " This is the new file, I just created\n",
      " Dont you think I am awesome?\n",
      " I can create files using Python\n",
      " Can you?\n",
      " Yes i can create files using pythonI can append as well!I can append as well!\n",
      " \n",
      " i am done with the Python Basis\n",
      " Now i will be learning machine Learning!\n",
      " Later Deep Learning and Artificial Intelligence\n",
      " \n"
     ]
    }
   ],
   "source": [
    "with open(\"test.txt\",'r') as file:\n",
    "    print(file.read())"
   ]
  },
  {
   "cell_type": "code",
   "execution_count": 4,
   "metadata": {},
   "outputs": [
    {
     "name": "stdout",
     "output_type": "stream",
     "text": [
      " This is the new file, I just created\n",
      "\n",
      "[' Dont you think I am awesome?\\n', ' I can create files using Python\\n', ' Can you?\\n', ' Yes i can create files using pythonI can append as well!I can append as well!\\n', ' \\n', ' i am done with the Python Basis\\n', ' Now i will be learning machine Learning!\\n', ' Later Deep Learning and Artificial Intelligence\\n', ' ']\n"
     ]
    }
   ],
   "source": [
    "with open(\"test.txt\",'r') as file:\n",
    "    print(file.readline())   #just reads one line of the file\n",
    "    print(file.readlines())  #reads all the lines after above line as list"
   ]
  },
  {
   "cell_type": "code",
   "execution_count": 3,
   "metadata": {},
   "outputs": [
    {
     "name": "stdout",
     "output_type": "stream",
     "text": [
      "[' This is the new file, I just created\\n', ' Dont you think I am awesome?\\n', ' I can create files using Python\\n', ' Can you?\\n', ' Yes i can create files using pythonI can append as well!I can append as well!\\n', ' \\n', ' i am done with the Python Basis\\n', ' Now i will be learning machine Learning!\\n', ' Later Deep Learning and Artificial Intelligence\\n', ' ']\n"
     ]
    }
   ],
   "source": [
    "with open(\"test.txt\",'r') as file:   \n",
    "    print(file.readlines())         # this is a list"
   ]
  },
  {
   "cell_type": "code",
   "execution_count": 6,
   "metadata": {},
   "outputs": [],
   "source": [
    "with open(\"test2.txt\",'w') as file:\n",
    "    file.write(\"i am fond of learing machine learning algorithms\\n i am clear on all the mathematics concepts\\n i would love to teach data science in the future\")"
   ]
  },
  {
   "cell_type": "code",
   "execution_count": 8,
   "metadata": {},
   "outputs": [
    {
     "name": "stdout",
     "output_type": "stream",
     "text": [
      "i am fond of learing machine learning algorithms\n",
      " i am clear on all the mathematics concepts\n",
      " i would love to teach data science in the future\n"
     ]
    }
   ],
   "source": [
    "with open(\"test2.txt\",'r') as file:\n",
    "    print(file.read())"
   ]
  },
  {
   "cell_type": "code",
   "execution_count": 11,
   "metadata": {},
   "outputs": [],
   "source": [
    "with open(\"test2.txt\",'a') as file:\n",
    "    file.write(\"\\ni'm loving it!\")  # To append the data to the file"
   ]
  },
  {
   "cell_type": "code",
   "execution_count": 12,
   "metadata": {},
   "outputs": [
    {
     "name": "stdout",
     "output_type": "stream",
     "text": [
      "i am fond of learing machine learning algorithms\n",
      " i am clear on all the mathematics concepts\n",
      " i would love to teach data science in the futurei'm loving it!\n",
      "i'm loving it!\n"
     ]
    }
   ],
   "source": [
    "with open(\"test2.txt\",'r') as file:\n",
    "    print(file.read())"
   ]
  },
  {
   "cell_type": "code",
   "execution_count": 13,
   "metadata": {},
   "outputs": [
    {
     "name": "stdout",
     "output_type": "stream",
     "text": [
      "i am fond of leari\n"
     ]
    }
   ],
   "source": [
    "with open(\"test2.txt\",'r') as file:\n",
    "    print(file.read(18))       # which reads only 18  characters from the beginning"
   ]
  },
  {
   "cell_type": "code",
   "execution_count": 16,
   "metadata": {},
   "outputs": [
    {
     "name": "stdout",
     "output_type": "stream",
     "text": [
      "6 9 3 3 1 0 9 2 8 7 \n"
     ]
    }
   ],
   "source": [
    "import random\n",
    "with open(\"number.txt\",'w') as file:\n",
    "    for i in range(10):\n",
    "        file.write(str(random.randint(0,9))+\" \")\n",
    "\n",
    "with open(\"number.txt\",'r') as file:\n",
    "    print(file.read())"
   ]
  },
  {
   "cell_type": "code",
   "execution_count": 17,
   "metadata": {},
   "outputs": [
    {
     "name": "stdout",
     "output_type": "stream",
     "text": [
      "6 9 3 3 1 0 9 2 8 7 4 2 6 3 3 6 2 2 2 1 \n"
     ]
    }
   ],
   "source": [
    "import random\n",
    "with open(\"number.txt\",'a') as file:\n",
    "    for i in range(10):\n",
    "        file.write(str(random.randint(0,9))+\" \")\n",
    "\n",
    "with open(\"number.txt\",'r') as file:\n",
    "    print(file.read())"
   ]
  },
  {
   "cell_type": "markdown",
   "metadata": {},
   "source": [
    "### Write a program that will count the number of characters, words, and lines in a file. Words are separated by a whitespace character. Your program should prompt the user to enter a filename."
   ]
  },
  {
   "cell_type": "code",
   "execution_count": 1,
   "metadata": {},
   "outputs": [
    {
     "name": "stdout",
     "output_type": "stream",
     "text": [
      "Enter a filename: test.txt\n",
      "315 characters\n",
      "57 words\n",
      "9 lines\n"
     ]
    }
   ],
   "source": [
    "def main():\n",
    "    # Prompt the user to enter filenames\n",
    "    f1 = input(\"Enter a filename: \").strip()\n",
    "\n",
    "    # Open files for input \n",
    "    infile = open(f1, \"r\")\n",
    "    \n",
    "    s = infile.read() # Read all from the file\n",
    "    \n",
    "    print(str(len(s)) + \" characters\") \n",
    "    print(str(len(s.split())) + \" words\") \n",
    "    print(str(len(s.split('\\n'))) + \" lines\") \n",
    "    \n",
    "    infile.close() # Close the output file\n",
    "\n",
    "main()\n"
   ]
  },
  {
   "cell_type": "markdown",
   "metadata": {},
   "source": [
    "### Suppose that a text file contains an unspecified number of scores. Write a program that reads the scores from the file and displays their total and average. Scores are separated by blanks. Your program should prompt the user to enter a filename."
   ]
  },
  {
   "cell_type": "code",
   "execution_count": 6,
   "metadata": {},
   "outputs": [
    {
     "name": "stdout",
     "output_type": "stream",
     "text": [
      "Enter a filename: number.txt\n",
      "There are: 20 numbers\n",
      "Total is: 79\n",
      "The Average is: 3.95\n"
     ]
    }
   ],
   "source": [
    "def main():\n",
    "    # Prompt the user to enter filenames\n",
    "    f1 = input(\"Enter a filename: \").strip()\n",
    "    \n",
    "    infile = open(f1,'r')\n",
    "    \n",
    "    s = infile.read()\n",
    "    num = int(len(s.split()))\n",
    "    total = sum([int(items) for items in s.split()])\n",
    "    \n",
    "    print(\"There are: \" + str(len(s.split())) + \" numbers\") \n",
    "    print(\"Total is: \" + str(total))\n",
    "    print(\"The Average is: \" + str(total/num))\n",
    "main()\n",
    "    "
   ]
  },
  {
   "cell_type": "markdown",
   "metadata": {},
   "source": [
    "### Write a program that writes 100 integers created randomly into a file. Integers are separated by a space in the file. Read the data back from the file and display the sorted data. Your program should prompt the user to enter a filename. If the file already exists, do not override it"
   ]
  },
  {
   "cell_type": "code",
   "execution_count": 10,
   "metadata": {},
   "outputs": [
    {
     "name": "stdout",
     "output_type": "stream",
     "text": [
      "Enter a filename: number2.txt\n",
      "6 7 15 16 17 30 30 39 73 76 79 111 111 113 115 118 138 149 150 165 166 178 185 190 192 192 211 219 226 226 232 232 245 256 293 297 304 312 322 333 334 339 340 345 354 355 360 373 373 377 388 407 428 429 460 488 493 495 507 511 512 513 514 515 532 554 556 557 584 586 587 621 623 632 645 656 664 680 700 709 712 720 741 772 785 786 791 791 814 825 853 856 856 870 885 891 909 944 958 985 "
     ]
    }
   ],
   "source": [
    "from random import randint\n",
    "import os.path\n",
    "\n",
    "def main():\n",
    "    # Prompt the user to enter filenames\n",
    "    f1 = input(\"Enter a filename: \").strip()\n",
    "\n",
    "    if os.path.isfile(f1):\n",
    "        print(\"The file already exists\")\n",
    "        return\n",
    "    \n",
    "    # Open files for output \n",
    "    outfile = open(f1, \"w\")\n",
    "    \n",
    "    for i in range(100):\n",
    "        print(randint(0, 999), file = outfile, end = \" \")\n",
    "    \n",
    "    outfile.close()\n",
    "    \n",
    "    infile = open(f1, \"r\")\n",
    "    s = infile.read() # Read all from the file\n",
    "\n",
    "    numbers = [eval(items) for items in s.split()]\n",
    "    numbers.sort()\n",
    "    \n",
    "    for i in range(len(numbers)):\n",
    "        print(numbers[i], end = \" \")\n",
    "        \n",
    "    infile.close() # Close the output file\n",
    "\n",
    "main()\n"
   ]
  },
  {
   "cell_type": "markdown",
   "metadata": {},
   "source": [
    "### Write a program that counts the number of words in President Abraham Lincoln’s Gettysburg Address from http://cs.armstrong.edu/liang/data/ Lincoln.txt."
   ]
  },
  {
   "cell_type": "code",
   "execution_count": 11,
   "metadata": {},
   "outputs": [
    {
     "name": "stdout",
     "output_type": "stream",
     "text": [
      "The number of words in the file is 2804\n"
     ]
    }
   ],
   "source": [
    "import urllib.request\n",
    "\n",
    "def main():\n",
    "    infile = urllib.request.urlopen(\"http://cs.armstrong.edu/liang/data/Lincoln.txt\")\n",
    "    s = infile.read()\n",
    "\n",
    "    print(\"The number of words in the file is \" + str(len(s.split())))\n",
    "main()"
   ]
  },
  {
   "cell_type": "markdown",
   "metadata": {},
   "source": [
    "### Create a data file with 5 lines. Each line in the file consists of a faculty first name, last name, rank, and salary. Faculty’s first name and last name for the ith line are FirstNamei and LastNamei. The rank is randomly generated as assistant, associate, and full. The salary is randomly generated as a number with two digits after the decimal point. The salary for assistant professor should be in the range from 50,000 to 80,000, for associate professor from 60,000 to 110,000, and for full professor from 75,000 to 130,000. Save the file in Salary.txt."
   ]
  },
  {
   "cell_type": "code",
   "execution_count": 17,
   "metadata": {},
   "outputs": [],
   "source": [
    "import random\n",
    "\n",
    "output = open(\"Salary.txt\", \"w\")\n",
    "\n",
    "N = 5\n",
    "for i in range(N):\n",
    "    output.write(\"FirstName\" + str(i + 1) + \" \")\n",
    "    output.write(\"LastName\" + str(i + 1) + \" \")\n",
    "    \n",
    "    rank = random.randint(0, 2)\n",
    "    if rank == 0:\n",
    "        output.write(\"assistant \")\n",
    "        output.write(str(round(random.random() * 30000 + 50000, 2)))\n",
    "    elif rank == 1:\n",
    "        output.write(\"associate \")\n",
    "        output.write(str(round(random.random() * 50000 + 60000, 2)))\n",
    "    else:\n",
    "        output.write(\"full \")\n",
    "        output.write(str(round(random.random() * 55000 + 75000, 2)))\n",
    "\n",
    "    if  i < N - 1:\n",
    "        output.write(\"\\n\")\n",
    "\n",
    "output.close()"
   ]
  },
  {
   "cell_type": "code",
   "execution_count": 18,
   "metadata": {},
   "outputs": [
    {
     "name": "stdout",
     "output_type": "stream",
     "text": [
      "FirstName1 LastName1 assistant 79591.39\n",
      "FirstName2 LastName2 associate 96580.65\n",
      "FirstName3 LastName3 associate 74323.37\n",
      "FirstName4 LastName4 full 75503.04\n",
      "FirstName5 LastName5 full 89532.3150.73\n"
     ]
    }
   ],
   "source": [
    "with open(\"Salary.txt\",\"r\") as file:\n",
    "    print(file.read())"
   ]
  }
 ],
 "metadata": {
  "kernelspec": {
   "display_name": "Python 3",
   "language": "python",
   "name": "python3"
  },
  "language_info": {
   "codemirror_mode": {
    "name": "ipython",
    "version": 3
   },
   "file_extension": ".py",
   "mimetype": "text/x-python",
   "name": "python",
   "nbconvert_exporter": "python",
   "pygments_lexer": "ipython3",
   "version": "3.7.4"
  }
 },
 "nbformat": 4,
 "nbformat_minor": 2
}
