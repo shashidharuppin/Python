{
 "cells": [
  {
   "cell_type": "markdown",
   "metadata": {},
   "source": [
    "### Inner Class"
   ]
  },
  {
   "cell_type": "code",
   "execution_count": 1,
   "metadata": {},
   "outputs": [],
   "source": [
    "class Student:\n",
    "    \n",
    "    def __init__(self, name, roll):\n",
    "        self.name = name\n",
    "        self.roll = roll\n",
    "        self.lap = self.Laptop()\n",
    "        \n",
    "    def show(self):\n",
    "        print(self.name, self.roll)\n",
    "        \n",
    "    class Laptop:\n",
    "        \n",
    "        def __init__(self):\n",
    "            self.brand = 'ASUS'\n",
    "            self.cpu = 'i9'\n",
    "            self.ram = 32\n",
    "            self.show()\n",
    "            \n",
    "        def show(self):\n",
    "            print(self.brand, self.cpu, self.ram)"
   ]
  },
  {
   "cell_type": "code",
   "execution_count": 2,
   "metadata": {},
   "outputs": [
    {
     "name": "stdout",
     "output_type": "stream",
     "text": [
      "ASUS i9 32\n"
     ]
    }
   ],
   "source": [
    "s1 = Student(\"Aditya\", 1)"
   ]
  },
  {
   "cell_type": "markdown",
   "metadata": {},
   "source": [
    "### Inheritance"
   ]
  },
  {
   "cell_type": "code",
   "execution_count": 5,
   "metadata": {},
   "outputs": [
    {
     "name": "stdout",
     "output_type": "stream",
     "text": [
      "0\n",
      "0\n"
     ]
    }
   ],
   "source": [
    "class A:\n",
    "    def __init__(self,i=0):\n",
    "        self.i = i\n",
    "\n",
    "class B(A):\n",
    "    def __init__(self,j=0):\n",
    "        super().__init__()\n",
    "        self.j = j\n",
    "\n",
    "def main():\n",
    "    b = B()\n",
    "    print(b.i)\n",
    "    print(b.j)\n",
    "\n",
    "main()"
   ]
  },
  {
   "cell_type": "code",
   "execution_count": 6,
   "metadata": {},
   "outputs": [],
   "source": [
    "class A:\n",
    "    \n",
    "    def __init__(self):\n",
    "        pass\n",
    "    \n",
    "    def feature1(self):\n",
    "        print(\"Feature 1 working\")\n",
    "        \n",
    "    def feature2(self):\n",
    "        print(\"Feature 2 working\")\n",
    "        \n",
    "        \n",
    "class B(A):\n",
    "    \n",
    "    def __init__(self):\n",
    "        pass\n",
    "    \n",
    "    def feature3(self):\n",
    "        print(\"Feature 3 working\")\n",
    "        \n",
    "    def feature4(self):\n",
    "        print(\"Feature 4 working\")"
   ]
  },
  {
   "cell_type": "code",
   "execution_count": 10,
   "metadata": {},
   "outputs": [
    {
     "name": "stdout",
     "output_type": "stream",
     "text": [
      "Feature 1 working\n",
      "Feature 2 working\n",
      "Feature 3 working\n",
      "Feature 4 working\n"
     ]
    }
   ],
   "source": [
    "b = B()\n",
    "b.feature1()\n",
    "b.feature2()\n",
    "b.feature3()\n",
    "b.feature4()"
   ]
  },
  {
   "cell_type": "code",
   "execution_count": 69,
   "metadata": {},
   "outputs": [
    {
     "name": "stdout",
     "output_type": "stream",
     "text": [
      "8\n"
     ]
    }
   ],
   "source": [
    "class A:\n",
    "    def __init__(self, i=0):\n",
    "        self.i = i\n",
    "    def m1(self):\n",
    "        self.i+=1\n",
    "    def __str__(self):\n",
    "        return str(self.i)\n",
    "    \n",
    "x = A(8)\n",
    "print(x)"
   ]
  },
  {
   "cell_type": "markdown",
   "metadata": {},
   "source": [
    "### Multi level inheritance"
   ]
  },
  {
   "cell_type": "code",
   "execution_count": 12,
   "metadata": {},
   "outputs": [],
   "source": [
    "class A:\n",
    "    \n",
    "    def __init__(self):\n",
    "        pass\n",
    "    \n",
    "    def feature1(self):\n",
    "        print(\"Feature 1 working\")\n",
    "        \n",
    "    def feature2(self):\n",
    "        print(\"Feature 2 working\")\n",
    "        \n",
    "        \n",
    "class B(A):\n",
    "    \n",
    "    def __init__(self):\n",
    "        pass\n",
    "    \n",
    "    def feature3(self):\n",
    "        print(\"Feature 3 working\")\n",
    "        \n",
    "    def feature4(self):\n",
    "        print(\"Feature 4 working\")\n",
    "        \n",
    "\n",
    "class C(B):\n",
    "    \n",
    "    def __init__(self):\n",
    "        pass\n",
    "    \n",
    "    def feature5(self):\n",
    "        print(\"Feature 5 working\")"
   ]
  },
  {
   "cell_type": "code",
   "execution_count": 16,
   "metadata": {},
   "outputs": [
    {
     "name": "stdout",
     "output_type": "stream",
     "text": [
      "<__main__.C object at 0x0000019D5CF78408>\n",
      "Feature 1 working\n",
      "Feature 2 working\n",
      "Feature 3 working\n",
      "Feature 4 working\n"
     ]
    }
   ],
   "source": [
    "c1 = C()\n",
    "print(c1)\n",
    "c1.feature1()\n",
    "c1.feature2()\n",
    "c1.feature3()\n",
    "c1.feature4()"
   ]
  },
  {
   "cell_type": "markdown",
   "metadata": {},
   "source": [
    "### Multipe Inheritance"
   ]
  },
  {
   "cell_type": "code",
   "execution_count": 14,
   "metadata": {},
   "outputs": [],
   "source": [
    "class A:\n",
    "    \n",
    "    def __init__(self):\n",
    "        pass\n",
    "    \n",
    "    def feature1(self):\n",
    "        print(\"Feature 1 working\")\n",
    "        \n",
    "    def feature2(self):\n",
    "        print(\"Feature 2 working\")\n",
    "        \n",
    "        \n",
    "class B:\n",
    "    \n",
    "    def __init__(self):\n",
    "        pass\n",
    "    \n",
    "    def feature3(self):\n",
    "        print(\"Feature 3 working\")\n",
    "        \n",
    "    def feature4(self):\n",
    "        print(\"Feature 4 working\")\n",
    "        \n",
    "\n",
    "class C(A, B):\n",
    "    \n",
    "    def __init__(self):\n",
    "        pass\n",
    "    \n",
    "    def feature5(self):\n",
    "        print(\"Feature 5 working\")"
   ]
  },
  {
   "cell_type": "code",
   "execution_count": 15,
   "metadata": {},
   "outputs": [
    {
     "name": "stdout",
     "output_type": "stream",
     "text": [
      "Feature 1 working\n",
      "Feature 2 working\n",
      "Feature 1 working\n",
      "Feature 2 working\n",
      "Feature 3 working\n",
      "Feature 4 working\n",
      "Feature 5 working\n"
     ]
    }
   ],
   "source": [
    "a1 = A()\n",
    "b1 = B()\n",
    "c1 = C()\n",
    "\n",
    "\n",
    "a1.feature1()\n",
    "a1.feature2()\n",
    "\n",
    "c1.feature1()\n",
    "c1.feature2()\n",
    "c1.feature3()\n",
    "c1.feature4()\n",
    "c1.feature5()"
   ]
  },
  {
   "cell_type": "markdown",
   "metadata": {},
   "source": [
    "### Constructor Inheritance"
   ]
  },
  {
   "cell_type": "code",
   "execution_count": 17,
   "metadata": {},
   "outputs": [],
   "source": [
    "class A:\n",
    "    \n",
    "    def __init__(self):\n",
    "        print(\"In A's init\")\n",
    "    \n",
    "    def feature1(self):\n",
    "        print(\"Feature 1 working\")\n",
    "        \n",
    "    def feature2(self):\n",
    "        print(\"Feature 2 working\")\n",
    "        \n",
    "        \n",
    "class B(A):\n",
    "    \n",
    "    # We dont have B's init\n",
    "    \n",
    "    def feature3(self):\n",
    "        print(\"Feature 3 working\")\n",
    "        \n",
    "    def feature4(self):\n",
    "        print(\"Feature 4 working\")"
   ]
  },
  {
   "cell_type": "code",
   "execution_count": 18,
   "metadata": {},
   "outputs": [
    {
     "name": "stdout",
     "output_type": "stream",
     "text": [
      "In A's init\n"
     ]
    }
   ],
   "source": [
    "a1 = A()"
   ]
  },
  {
   "cell_type": "code",
   "execution_count": 19,
   "metadata": {},
   "outputs": [
    {
     "name": "stdout",
     "output_type": "stream",
     "text": [
      "Feature 1 working\n",
      "Feature 2 working\n"
     ]
    }
   ],
   "source": [
    "a1.feature1()\n",
    "a1.feature2()"
   ]
  },
  {
   "cell_type": "code",
   "execution_count": 20,
   "metadata": {},
   "outputs": [
    {
     "name": "stdout",
     "output_type": "stream",
     "text": [
      "In A's init\n"
     ]
    }
   ],
   "source": [
    "b1 = B()"
   ]
  },
  {
   "cell_type": "code",
   "execution_count": 21,
   "metadata": {},
   "outputs": [],
   "source": [
    "class A:\n",
    "    \n",
    "    def __init__(self):\n",
    "        print(\"In A's init\")\n",
    "    \n",
    "    def feature1(self):\n",
    "        print(\"Feature 1 working\")\n",
    "        \n",
    "    def feature2(self):\n",
    "        print(\"Feature 2 working\")\n",
    "        \n",
    "        \n",
    "class B(A):\n",
    "    \n",
    "    def __init__(self):\n",
    "        print(\"In B's init\")\n",
    "    \n",
    "    def feature3(self):\n",
    "        print(\"Feature 3 working\")\n",
    "        \n",
    "    def feature4(self):\n",
    "        print(\"Feature 4 working\")"
   ]
  },
  {
   "cell_type": "code",
   "execution_count": 22,
   "metadata": {},
   "outputs": [
    {
     "name": "stdout",
     "output_type": "stream",
     "text": [
      "In B's init\n"
     ]
    }
   ],
   "source": [
    "b1 = B()"
   ]
  },
  {
   "cell_type": "code",
   "execution_count": 23,
   "metadata": {},
   "outputs": [
    {
     "name": "stdout",
     "output_type": "stream",
     "text": [
      "In A's init\n"
     ]
    }
   ],
   "source": [
    "a1 = A()"
   ]
  },
  {
   "cell_type": "code",
   "execution_count": 24,
   "metadata": {},
   "outputs": [],
   "source": [
    "class A:\n",
    "    \n",
    "    def __init__(self):\n",
    "        print(\"In A's init\")\n",
    "    \n",
    "    def feature1(self):\n",
    "        print(\"Feature 1 working\")\n",
    "        \n",
    "    def feature2(self):\n",
    "        print(\"Feature 2 working\")\n",
    "        \n",
    "        \n",
    "class B(A):\n",
    "    \n",
    "    def __init__(self):\n",
    "        super().__init__()\n",
    "        print(\"In B's init\")\n",
    "    \n",
    "    def feature3(self):\n",
    "        print(\"Feature 3 working\")\n",
    "        \n",
    "    def feature4(self):\n",
    "        print(\"Feature 4 working\")"
   ]
  },
  {
   "cell_type": "code",
   "execution_count": 25,
   "metadata": {},
   "outputs": [
    {
     "name": "stdout",
     "output_type": "stream",
     "text": [
      "In A's init\n",
      "In B's init\n"
     ]
    }
   ],
   "source": [
    "b1 = B()"
   ]
  },
  {
   "cell_type": "code",
   "execution_count": 30,
   "metadata": {},
   "outputs": [],
   "source": [
    "class A:\n",
    "    \n",
    "    def __init__(self):\n",
    "        print(\"In A's init\")\n",
    "    \n",
    "    def feature1(self):\n",
    "        print(\"Feature 1 of A working\")\n",
    "        \n",
    "    def feature2(self):\n",
    "        print(\"Feature 2 working\")\n",
    "        \n",
    "        \n",
    "class B:\n",
    "    \n",
    "    def __init__(self):\n",
    "        print(\"In B's init\")\n",
    "    \n",
    "    def feature1(self):\n",
    "        print(\"Feature 1 of B working\")\n",
    "        \n",
    "    def feature3(self):\n",
    "        print(\"Feature 3 working\")\n",
    "        \n",
    "\n",
    "class C(A, B):\n",
    "    \n",
    "    def __init__(self):\n",
    "        super().__init__()\n",
    "        print(\"In C's init\")\n",
    "        super().feature3()\n",
    "        \n",
    "    def feature4(self):\n",
    "        print(\"Feature 4 working\")"
   ]
  },
  {
   "cell_type": "code",
   "execution_count": 31,
   "metadata": {},
   "outputs": [
    {
     "name": "stdout",
     "output_type": "stream",
     "text": [
      "In A's init\n",
      "In C's init\n",
      "Feature 3 working\n"
     ]
    }
   ],
   "source": [
    "c1 = C()"
   ]
  },
  {
   "cell_type": "markdown",
   "metadata": {},
   "source": [
    "### Polymorphism"
   ]
  },
  {
   "cell_type": "code",
   "execution_count": 32,
   "metadata": {},
   "outputs": [],
   "source": [
    "class Student:\n",
    "    \n",
    "    def __str__(self):\n",
    "        return \"Student\"\n",
    "    def printStudent(self):\n",
    "        print(self.__str__())\n",
    "\n",
    "class GraduateStudent(Student):\n",
    "    \n",
    "    def __str__(self):\n",
    "        return \"Graduate Student\"\n",
    "    "
   ]
  },
  {
   "cell_type": "code",
   "execution_count": 33,
   "metadata": {},
   "outputs": [
    {
     "name": "stdout",
     "output_type": "stream",
     "text": [
      "Student\n",
      "Graduate Student\n"
     ]
    }
   ],
   "source": [
    "a = Student()\n",
    "b = GraduateStudent()\n",
    "\n",
    "a.printStudent()\n",
    "b.printStudent()"
   ]
  },
  {
   "cell_type": "code",
   "execution_count": 4,
   "metadata": {},
   "outputs": [],
   "source": [
    "class Laptop:\n",
    "    \n",
    "    def __init__(self):\n",
    "        pass\n",
    "    \n",
    "    def code(self, ide):\n",
    "        ide.execute()\n",
    "        \n",
    "class PyCharm:\n",
    "    \n",
    "    def __init__(self):\n",
    "        pass\n",
    "    \n",
    "    def execute(self):\n",
    "        print(\"Compiling\")\n",
    "        print(\"Running\")"
   ]
  },
  {
   "cell_type": "code",
   "execution_count": 12,
   "metadata": {},
   "outputs": [
    {
     "ename": "NameError",
     "evalue": "name 'laptop' is not defined",
     "output_type": "error",
     "traceback": [
      "\u001b[1;31m---------------------------------------------------------------------------\u001b[0m",
      "\u001b[1;31mNameError\u001b[0m                                 Traceback (most recent call last)",
      "\u001b[1;32m<ipython-input-12-b0f28d6c4aa6>\u001b[0m in \u001b[0;36m<module>\u001b[1;34m\u001b[0m\n\u001b[1;32m----> 1\u001b[1;33m \u001b[0ml1\u001b[0m \u001b[1;33m=\u001b[0m \u001b[0mlaptop\u001b[0m\u001b[1;33m(\u001b[0m\u001b[1;33m)\u001b[0m\u001b[1;33m\u001b[0m\u001b[1;33m\u001b[0m\u001b[0m\n\u001b[0m\u001b[0;32m      2\u001b[0m \u001b[0ml1\u001b[0m\u001b[1;33m.\u001b[0m\u001b[0mcode\u001b[0m\u001b[1;33m(\u001b[0m\u001b[1;33m)\u001b[0m\u001b[1;33m\u001b[0m\u001b[1;33m\u001b[0m\u001b[0m\n",
      "\u001b[1;31mNameError\u001b[0m: name 'laptop' is not defined"
     ]
    }
   ],
   "source": [
    "l1 = laptop()\n",
    "l1.code()"
   ]
  },
  {
   "cell_type": "code",
   "execution_count": 13,
   "metadata": {},
   "outputs": [],
   "source": [
    "ide = PyCharm ()"
   ]
  },
  {
   "cell_type": "code",
   "execution_count": 15,
   "metadata": {},
   "outputs": [
    {
     "ename": "NameError",
     "evalue": "name 'l1' is not defined",
     "output_type": "error",
     "traceback": [
      "\u001b[1;31m---------------------------------------------------------------------------\u001b[0m",
      "\u001b[1;31mNameError\u001b[0m                                 Traceback (most recent call last)",
      "\u001b[1;32m<ipython-input-15-95e042f42315>\u001b[0m in \u001b[0;36m<module>\u001b[1;34m\u001b[0m\n\u001b[1;32m----> 1\u001b[1;33m \u001b[0ml1\u001b[0m\u001b[1;33m.\u001b[0m\u001b[0mcode\u001b[0m\u001b[1;33m(\u001b[0m\u001b[0mide\u001b[0m\u001b[1;33m)\u001b[0m\u001b[1;33m\u001b[0m\u001b[1;33m\u001b[0m\u001b[0m\n\u001b[0m",
      "\u001b[1;31mNameError\u001b[0m: name 'l1' is not defined"
     ]
    }
   ],
   "source": [
    "l1.code(ide)"
   ]
  },
  {
   "cell_type": "code",
   "execution_count": 9,
   "metadata": {},
   "outputs": [],
   "source": [
    "\n",
    "class Laptop:\n",
    "    \n",
    "    def __init__(self):\n",
    "        pass\n",
    "    \n",
    "    def code(self, ide):\n",
    "        ide.execute()\n",
    "        \n",
    "class PyCharm:\n",
    "    \n",
    "    def __init__(self):\n",
    "        pass\n",
    "    \n",
    "    def execute(self):\n",
    "        print(\"Compiling\")\n",
    "        print(\"Running\")\n",
    "        \n",
    "class MyCharm:\n",
    "    \n",
    "    def __init__(self):\n",
    "        pass\n",
    "    \n",
    "    def execute(self):\n",
    "        print(\"Spell Check\")\n",
    "        print(\"Debugging\")\n",
    "        print(\"Compiling\")\n",
    "        print(\"IPython Support\")\n",
    "        print(\"CUDA\")"
   ]
  },
  {
   "cell_type": "code",
   "execution_count": 16,
   "metadata": {},
   "outputs": [],
   "source": [
    "ide = MyCharm()"
   ]
  },
  {
   "cell_type": "code",
   "execution_count": 17,
   "metadata": {},
   "outputs": [
    {
     "ename": "NameError",
     "evalue": "name 'l1' is not defined",
     "output_type": "error",
     "traceback": [
      "\u001b[1;31m---------------------------------------------------------------------------\u001b[0m",
      "\u001b[1;31mNameError\u001b[0m                                 Traceback (most recent call last)",
      "\u001b[1;32m<ipython-input-17-95e042f42315>\u001b[0m in \u001b[0;36m<module>\u001b[1;34m\u001b[0m\n\u001b[1;32m----> 1\u001b[1;33m \u001b[0ml1\u001b[0m\u001b[1;33m.\u001b[0m\u001b[0mcode\u001b[0m\u001b[1;33m(\u001b[0m\u001b[0mide\u001b[0m\u001b[1;33m)\u001b[0m\u001b[1;33m\u001b[0m\u001b[1;33m\u001b[0m\u001b[0m\n\u001b[0m",
      "\u001b[1;31mNameError\u001b[0m: name 'l1' is not defined"
     ]
    }
   ],
   "source": [
    "l1.code(ide)"
   ]
  },
  {
   "cell_type": "markdown",
   "metadata": {},
   "source": [
    "### Design a class named Triangle that extends the geometricObject class."
   ]
  },
  {
   "cell_type": "code",
   "execution_count": 65,
   "metadata": {},
   "outputs": [
    {
     "name": "stdout",
     "output_type": "stream",
     "text": [
      "Area:  3.872983346207417 \n",
      " Perimeter 10\n",
      "color:  Green \n",
      " Is Filled ?  True\n"
     ]
    }
   ],
   "source": [
    "import math\n",
    "\n",
    "class GeometricObject:\n",
    "    def __init__(self, color=\"Pink\", filled = False):\n",
    "        self.__color = color\n",
    "        self.__filled = filled\n",
    "    \n",
    "    def setcolor(self, color):\n",
    "        self.color = color\n",
    "        return color\n",
    "    \n",
    "    def setfilled(self, filled):\n",
    "        self.filled = filled\n",
    "        return filled\n",
    "\n",
    "class Triangle(GeometricObject):\n",
    "    def __init__(self,side1=1,side2=1,side3=1):\n",
    "        #super().__init__(color,filled)\n",
    "        self.__side1 = side1\n",
    "        self.__side2 = side2\n",
    "        self.__side3 = side3\n",
    "    \n",
    "    def getside1(self):\n",
    "        return self.side1\n",
    "    def getside2(self):\n",
    "        return self.side2\n",
    "    def getside3(self):\n",
    "        return self.side3\n",
    "    \n",
    "    def getArea(self):\n",
    "        s = 0.5 * (self.__side2+self.__side1+self.__side3)\n",
    "        return math.sqrt(s*(s-self.__side1)*(s-self.__side2)*(s-self.__side3))\n",
    "    def getPerimeter(self):\n",
    "        return self.__side1+self.__side2+self.__side3\n",
    "    def __str__(self):\n",
    "        return \"Triangle: side1 = \" + str(side1) + str(side2) + str(side3)\n",
    "\n",
    "def main():\n",
    "    tri = Triangle(2,4,4)\n",
    "    tri.setcolor(\"Green\")\n",
    "    tri.setfilled(bool(1))\n",
    "    \n",
    "    print(\"Area: \", tri.getArea(),\"\\n\", \"Perimeter\", tri.getPerimeter())\n",
    "    print(\"color: \", tri.setcolor(\"Green\"),\"\\n\",\"Is Filled ? \",tri.setfilled(bool(1)))\n",
    "main()"
   ]
  },
  {
   "cell_type": "code",
   "execution_count": 68,
   "metadata": {},
   "outputs": [
    {
     "name": "stdout",
     "output_type": "stream",
     "text": [
      "Enter the number of rows and columns of the list: 3, 4\n",
      "Enter row 0: 1 2 3 4\n",
      "Enter row 1: 5 6 7 8\n",
      "Enter row 2: 5 3 6 7\n",
      "The location of the largest element is 8 at (1, 3)\n"
     ]
    },
    {
     "ename": "NameError",
     "evalue": "name 'matrix' is not defined",
     "output_type": "error",
     "traceback": [
      "\u001b[1;31m---------------------------------------------------------------------------\u001b[0m",
      "\u001b[1;31mNameError\u001b[0m                                 Traceback (most recent call last)",
      "\u001b[1;32m<ipython-input-68-4311633a1c1c>\u001b[0m in \u001b[0;36m<module>\u001b[1;34m\u001b[0m\n\u001b[0;32m     43\u001b[0m \u001b[1;33m\u001b[0m\u001b[0m\n\u001b[0;32m     44\u001b[0m \u001b[0mmain\u001b[0m\u001b[1;33m(\u001b[0m\u001b[1;33m)\u001b[0m\u001b[1;33m\u001b[0m\u001b[1;33m\u001b[0m\u001b[0m\n\u001b[1;32m---> 45\u001b[1;33m \u001b[0mprint\u001b[0m\u001b[1;33m(\u001b[0m\u001b[0mmatrix\u001b[0m\u001b[1;33m)\u001b[0m\u001b[1;33m\u001b[0m\u001b[1;33m\u001b[0m\u001b[0m\n\u001b[0m",
      "\u001b[1;31mNameError\u001b[0m: name 'matrix' is not defined"
     ]
    }
   ],
   "source": [
    "class Location:\n",
    "    def __init__(self, row, column, maxValue):\n",
    "        self.row = row\n",
    "        self.column = column\n",
    "        self.maxValue = maxValue\n",
    "\n",
    "    def getRow(self):\n",
    "        return self.row\n",
    "    \n",
    "    def getColumn(self):\n",
    "        return self.column\n",
    "\n",
    "    def getMaxValue(self):\n",
    "        return self.maxValue\n",
    "    \n",
    "def main():\n",
    "    row, column = eval(input(\"Enter the number of rows and columns of the list: \"))\n",
    "    \n",
    "    matrix = []\n",
    "    for i in range(row):\n",
    "        s = input(\"Enter row \" + str(i) + \": \") \n",
    "        items = s.split() \n",
    "        list = [ x for x in items ]   \n",
    "        matrix.append(list)\n",
    "    \n",
    "    location = locateLargest(matrix)\n",
    "    print(\"The location of the largest element is \"\n",
    "      + str(location.getMaxValue()) + \" at (\" \n",
    "      + str(location.getRow()) + \", \" + str(location.getColumn()) + \")\")\n",
    "\n",
    "def locateLargest(a):\n",
    "    maxValue = a[0][0]\n",
    "    row = 0\n",
    "    column = 0\n",
    "    for i in range(len(a)):\n",
    "        for j in range(len(a[i])):\n",
    "            if maxValue < a[i][j]:\n",
    "                maxValue = a[i][j]\n",
    "                row = i\n",
    "                column = j\n",
    "        \n",
    "    return Location(row, column, maxValue)\n",
    "\n",
    "main()\n"
   ]
  },
  {
   "cell_type": "code",
   "execution_count": 92,
   "metadata": {},
   "outputs": [
    {
     "data": {
      "text/plain": [
       "[[1, 0, 0], [1, 1, 0], [1, 0, 1]]"
      ]
     },
     "execution_count": 92,
     "metadata": {},
     "output_type": "execute_result"
    }
   ],
   "source": [
    "list2 = [[1,0,0],[1,1,0],[1,0,1]]\n",
    "list2"
   ]
  },
  {
   "cell_type": "code",
   "execution_count": 93,
   "metadata": {},
   "outputs": [
    {
     "name": "stdout",
     "output_type": "stream",
     "text": [
      "[1, 0, 0]\n",
      "[1, 1, 0]\n",
      "[1, 0, 1]\n"
     ]
    }
   ],
   "source": [
    "def win(current_game):\n",
    "    for row in list2:\n",
    "        print(row)\n",
    "        if row.count(row[0]) == len(row) and row[0] != 0:\n",
    "            print(\"Winner\")\n",
    "win_game(list2)"
   ]
  },
  {
   "cell_type": "code",
   "execution_count": 94,
   "metadata": {},
   "outputs": [
    {
     "name": "stdout",
     "output_type": "stream",
     "text": [
      "[1, 1, 1]\n",
      "Winner\n",
      "[0, 1, 0]\n",
      "[0, 0, 1]\n"
     ]
    }
   ],
   "source": [
    "for col in range(len(list2)):\n",
    "    check = []\n",
    "    \n",
    "    for row in list2:\n",
    "        check.append(row[col])\n",
    "    print(check)\n",
    "    if check.count(check[0]) == len(check) and check[0] != 0:\n",
    "        print(\"Winner\")"
   ]
  },
  {
   "cell_type": "code",
   "execution_count": 104,
   "metadata": {},
   "outputs": [
    {
     "name": "stdout",
     "output_type": "stream",
     "text": [
      "Winner\n",
      "[1, 1, 1]\n"
     ]
    }
   ],
   "source": [
    "diags_1 = []\n",
    "\n",
    "for row in range(len(list2)):\n",
    "    diags_1.append(list2[row][row])\n",
    "if diags_1.count(diags_1[0]) == len(diags_1) and diags_1[0] != 0:\n",
    "    print(\"Winner\")\n",
    "    \n",
    "print(diags_1)"
   ]
  },
  {
   "cell_type": "code",
   "execution_count": 96,
   "metadata": {},
   "outputs": [
    {
     "name": "stdout",
     "output_type": "stream",
     "text": [
      "[0, 1, 1]\n"
     ]
    }
   ],
   "source": [
    "diags_2 = []\n",
    "\n",
    "for row in range(len(list2)):\n",
    "    diags_2.append(list2[row][len(list2)-(row+1)])\n",
    "if diags_2.count(diags_2[0]) == len(diags_1) and diags_2[0] != 0:\n",
    "    print(\"Winner\")\n",
    "print(diags_2)"
   ]
  },
  {
   "cell_type": "code",
   "execution_count": null,
   "metadata": {},
   "outputs": [],
   "source": [
    "# Shifting between players\n",
    "\n",
    "players = [1,0]\n",
    "choice = 1\n",
    "\n",
    "for i in range(10):\n",
    "    current_player = choice\n",
    "    print(\"Current Player is: \" , current_player)\n",
    "    choice = players[choice]"
   ]
  },
  {
   "cell_type": "code",
   "execution_count": 1,
   "metadata": {},
   "outputs": [],
   "source": [
    "def game_board (game_map, player = 0, row = 0, column = 0, just_display = False):\n",
    "    try:\n",
    "        if not just_display:\n",
    "            game_map [row][column] = player\n",
    "        for row in game_map:\n",
    "            print(row)\n",
    "        return game_map\n",
    "    \n",
    "    except IndexError as e:\n",
    "        print(\"Mkae sure your input row/column is 0 1 or 2 \", e)\n",
    "        \n",
    "    except Exception as e:\n",
    "        print(\"Sometthing is not right\", e)"
   ]
  },
  {
   "cell_type": "code",
   "execution_count": null,
   "metadata": {},
   "outputs": [
    {
     "name": "stdout",
     "output_type": "stream",
     "text": [
      "Current Player is:  1\n",
      "What column do you want to play ? 1\n",
      "What row do you want to play ? 1\n",
      "[0, 0, 0]\n",
      "[0, 1, 0]\n",
      "[0, 0, 0]\n",
      "Current Player is:  0\n",
      "What column do you want to play ? 1\n",
      "What row do you want to play ? 1\n",
      "[0, 0, 0]\n",
      "[0, 0, 0]\n",
      "[0, 0, 0]\n",
      "Current Player is:  1\n",
      "What column do you want to play ? 0\n",
      "What row do you want to play ? 0\n",
      "[1, 0, 0]\n",
      "[0, 0, 0]\n",
      "[0, 0, 0]\n",
      "Current Player is:  0\n"
     ]
    }
   ],
   "source": [
    "play = True\n",
    "players = [1,0]\n",
    "\n",
    "while play:\n",
    "    game = [[0,0,0],\n",
    "             [0,0,0],\n",
    "             [0,0,0]]\n",
    "    \n",
    "    game_won = False\n",
    "    #game, _ = game_board (game,just_display = True)\n",
    "    choice = 1\n",
    "    while not game_won:\n",
    "        current_player = choice\n",
    "        print(\"Current Player is: \" , current_player)\n",
    "        choice = players[choice]\n",
    "        played = False\n",
    "        \n",
    "        while not played:\n",
    "            column_choice = int(input(\"What column do you want to play ? \"))\n",
    "            row_choice = int(input(\"What row do you want to play ? \"))\n",
    "            game = game_board(game,current_player, row_choice, column_choice)\n",
    "            played =True\n",
    "            "
   ]
  },
  {
   "cell_type": "code",
   "execution_count": null,
   "metadata": {},
   "outputs": [],
   "source": [
    "for row in game:\n",
    "    print(row)"
   ]
  },
  {
   "cell_type": "code",
   "execution_count": null,
   "metadata": {},
   "outputs": [],
   "source": []
  },
  {
   "cell_type": "code",
   "execution_count": null,
   "metadata": {},
   "outputs": [],
   "source": []
  },
  {
   "cell_type": "code",
   "execution_count": null,
   "metadata": {},
   "outputs": [],
   "source": []
  }
 ],
 "metadata": {
  "kernelspec": {
   "display_name": "Python 3",
   "language": "python",
   "name": "python3"
  },
  "language_info": {
   "codemirror_mode": {
    "name": "ipython",
    "version": 3
   },
   "file_extension": ".py",
   "mimetype": "text/x-python",
   "name": "python",
   "nbconvert_exporter": "python",
   "pygments_lexer": "ipython3",
   "version": "3.7.4"
  }
 },
 "nbformat": 4,
 "nbformat_minor": 2
}
