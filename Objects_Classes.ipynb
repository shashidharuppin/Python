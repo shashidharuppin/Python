{
 "cells": [
  {
   "cell_type": "markdown",
   "metadata": {},
   "source": [
    "# ARGS"
   ]
  },
  {
   "cell_type": "code",
   "execution_count": 1,
   "metadata": {},
   "outputs": [
    {
     "name": "stdout",
     "output_type": "stream",
     "text": [
      "Shashi\n",
      "(28, 'Bangalore', 'Machine Learning')\n"
     ]
    }
   ],
   "source": [
    "def person(name, *data):\n",
    "    print(name)\n",
    "    print(data)\n",
    "    \n",
    "person(\"Shashi\", 28, \"Bangalore\", \"Machine Learning\")"
   ]
  },
  {
   "cell_type": "markdown",
   "metadata": {},
   "source": [
    "# KWARGS"
   ]
  },
  {
   "cell_type": "code",
   "execution_count": 3,
   "metadata": {},
   "outputs": [
    {
     "name": "stdout",
     "output_type": "stream",
     "text": [
      "Shashi\n",
      "age 28\n",
      "city Bangalore\n",
      "interest Machine Learning\n"
     ]
    }
   ],
   "source": [
    "def person(name, **data):\n",
    "    print(name)\n",
    "    \n",
    "    for i,j in data.items():\n",
    "        print(i,j)\n",
    "    \n",
    "person(\"Shashi\", age = 28,city = \"Bangalore\",interest = \"Machine Learning\")"
   ]
  },
  {
   "cell_type": "markdown",
   "metadata": {},
   "source": [
    "### Define a class named Rectangle to represent rectangle"
   ]
  },
  {
   "cell_type": "code",
   "execution_count": 3,
   "metadata": {},
   "outputs": [
    {
     "name": "stdout",
     "output_type": "stream",
     "text": [
      "the width is:  4\n",
      "the height is:  40\n",
      "the area is:  160\n",
      "the perimeter is:  88\n",
      "the width is:  3.5\n",
      "the height is:  35.7\n",
      "the area is:  124.95000000000002\n",
      "the perimeter is:  78.4\n"
     ]
    }
   ],
   "source": [
    "class Rectangle:\n",
    "    \n",
    "    def __init__(self,width,height):\n",
    "        self.width = width\n",
    "        self.height = height\n",
    "    \n",
    "    def getWidth(self):\n",
    "        return self.width\n",
    "    \n",
    "    def getHeight(self):\n",
    "        return self.height\n",
    "    \n",
    "    def getArea(self):\n",
    "        return self.width * self.height\n",
    "    \n",
    "    def getPerimeter(self):\n",
    "        return 2*self.width + 2*self.height\n",
    "\n",
    "r1 = Rectangle(4,40)\n",
    "r2 = Rectangle(3.5,35.7)\n",
    "\n",
    "print(\"the width is: \",r1.getWidth())\n",
    "print(\"the height is: \",r1.getHeight())\n",
    "print(\"the area is: \",r1.getArea())\n",
    "print(\"the perimeter is: \",r1.getPerimeter())\n",
    "\n",
    "print(\"the width is: \",r2.getWidth())\n",
    "print(\"the height is: \",r2.getHeight())\n",
    "print(\"the area is: \",r2.getArea())\n",
    "print(\"the perimeter is: \",r2.getPerimeter())\n"
   ]
  },
  {
   "cell_type": "markdown",
   "metadata": {},
   "source": [
    "### Design a class named Stock to represent Company's stock"
   ]
  },
  {
   "cell_type": "code",
   "execution_count": 5,
   "metadata": {},
   "outputs": [
    {
     "name": "stdout",
     "output_type": "stream",
     "text": [
      "The price change is -0.73%\n"
     ]
    }
   ],
   "source": [
    "class Stock:\n",
    "    \n",
    "    def __init__(self,name,symbol,previousPrice,currentPrice):\n",
    "        self.__name = name\n",
    "        self.__symbol = symbol\n",
    "        self.__previousPrice = previousPrice\n",
    "        self.__currentPrice = currentPrice\n",
    "        \n",
    "    def getName(self):\n",
    "        return self.__name\n",
    "    \n",
    "    def getSymbol(self):\n",
    "        return self.__symbol\n",
    "    \n",
    "    def getpreviousPrice(self):\n",
    "        return self.__previousPrice\n",
    "    \n",
    "    def getcurrentPrice(self):\n",
    "        return self.__currentPrice\n",
    "    \n",
    "    def setPreviousPrice(self, previousPrice):\n",
    "        self.__previousPrice = previousPrice\n",
    "\n",
    "    def setCurrentPrice(self, currentPrice):\n",
    "        self.__currentPrice = currentPrice\n",
    "        \n",
    "    def getChangePercent(self):\n",
    "        return format((self.__currentPrice - self.__previousPrice) * 100 / self.__previousPrice, \"5.2f\") + \"%\"\n",
    "    \n",
    "def main():\n",
    "    \n",
    "    stock = Stock(\"Intel\", \"INTC\", 20.5, 20.35)\n",
    "    print(\"The price change is \" + str(stock.getChangePercent()))\n",
    "\n",
    "main()"
   ]
  },
  {
   "cell_type": "markdown",
   "metadata": {},
   "source": [
    "# Design a class named Fan to represent a fan"
   ]
  },
  {
   "cell_type": "code",
   "execution_count": 6,
   "metadata": {},
   "outputs": [
    {
     "name": "stdout",
     "output_type": "stream",
     "text": [
      "speed 3 \n",
      " color yellow \n",
      " radius 10 \n",
      " fan is on\n",
      "speed 2 \n",
      " color blue \n",
      " radius 5 \n",
      " fan is off\n"
     ]
    }
   ],
   "source": [
    "SLOW = 1\n",
    "MEDIUM = 2\n",
    "FAST = 3\n",
    "\n",
    "class Fan:\n",
    "    def __init__(self, speed = SLOW, radius = 5, color = \"blue\", on = False):\n",
    "        self.__speed = speed\n",
    "        self.__radius = radius\n",
    "        self.__color = color\n",
    "        self.__on = on\n",
    "\n",
    "    def getSpeed(self):\n",
    "        return self.__speed\n",
    "\n",
    "    def getRadius(self):\n",
    "        return self.__radius\n",
    "\n",
    "    def getColor(self):\n",
    "        return self.__color\n",
    "\n",
    "    def isOn(self):\n",
    "        return self.__on\n",
    "\n",
    "    def setSpeed(self, speed):\n",
    "        self.__speed = speed\n",
    "\n",
    "    def setRadius(self, radius):\n",
    "        self.__radius = radius\n",
    "\n",
    "    def setColor(self, color):\n",
    "        self.__color = color\n",
    "\n",
    "    def setOn(self, on):\n",
    "        self.__on = on\n",
    "\n",
    "def displayProperties(fan):\n",
    "    print(\"speed\", fan.getSpeed(), \"\\n\", \"color\", fan.getColor(), \"\\n\", \n",
    "        \"radius\", fan.getRadius(), \"\\n\", \"fan is on\" if fan.isOn() else \"fan is off\")\n",
    "\n",
    "def main():\n",
    "    fan1 = Fan()\n",
    "    fan1.setSpeed(FAST)\n",
    "    fan1.setRadius(10)\n",
    "    fan1.setColor(\"yellow\")\n",
    "    fan1.setOn(True)\n",
    "    displayProperties(fan1)\n",
    "\n",
    "    fan2 = Fan()\n",
    "    fan2.setSpeed(MEDIUM)\n",
    "    fan2.setRadius(5)\n",
    "    fan2.setColor(\"blue\")\n",
    "    fan2.setOn(False)\n",
    "    displayProperties(fan2)\n",
    "          \n",
    "main()"
   ]
  },
  {
   "cell_type": "markdown",
   "metadata": {},
   "source": [
    "### Design a class named Reguar Polygon for an n-sided regular polygon's side all have same length"
   ]
  },
  {
   "cell_type": "code",
   "execution_count": 11,
   "metadata": {},
   "outputs": [
    {
     "name": "stdout",
     "output_type": "stream",
     "text": [
      "area:  0.43301270189221946 \n",
      " perimeter:  3\n",
      "area:  41.569219381653056 \n",
      " perimeter:  24\n",
      "area:  123.10734148701015 \n",
      " perimeter:  40\n"
     ]
    }
   ],
   "source": [
    "import math\n",
    "\n",
    "class RegularPolygon:\n",
    "    \n",
    "    def __init__(self,n = 3,side = 1,x = 0,y = 0):\n",
    "        self.__n = n\n",
    "        self.__side = side\n",
    "        self.__x = x\n",
    "        self.__y = y\n",
    "    \n",
    "    def getn(self):\n",
    "        return self.__n\n",
    "    \n",
    "    def getside(self):\n",
    "        return self.__side\n",
    "    \n",
    "    def getx(self):\n",
    "        return self.__x\n",
    "    \n",
    "    def gety(self):\n",
    "        return self.__y\n",
    "    \n",
    "    def setn(self,n):\n",
    "        self.__n = n\n",
    "        \n",
    "    def setSide(self,side):\n",
    "        self.__side = side\n",
    "    \n",
    "    def setx(self,x):\n",
    "        self.__x = x\n",
    "    \n",
    "    def sety(self,y):\n",
    "        self.__y = y\n",
    "    \n",
    "    def getPerimeter(self):\n",
    "        return self.__n * self.__side\n",
    "    \n",
    "    def getArea(self):\n",
    "        return (self.__n* self.__side**2)/(4 * math.tan(math.pi/self.__n))\n",
    "\n",
    "def displayProperties(polygon):\n",
    "    print(\"area: \",polygon.getArea(),\"\\n\",\"perimeter: \",polygon.getPerimeter())\n",
    "\n",
    "def main():\n",
    "    \n",
    "    py1 = RegularPolygon()\n",
    "    displayProperties(py1)\n",
    "    \n",
    "    py2 = RegularPolygon(6,4)\n",
    "    displayProperties(py2)\n",
    "    \n",
    "    py3 = RegularPolygon(10,4,5.6,7.8)\n",
    "    displayProperties(py3)\n",
    "\n",
    "main()"
   ]
  },
  {
   "cell_type": "markdown",
   "metadata": {},
   "source": [
    "### Design a class named Quadratic Equation for a quadratic equation ax*2+bx+c=c"
   ]
  },
  {
   "cell_type": "code",
   "execution_count": 18,
   "metadata": {},
   "outputs": [
    {
     "name": "stdout",
     "output_type": "stream",
     "text": [
      "Enter an integer a :1\n",
      "Enter an integer b :7\n",
      "Enter an integer c :2\n",
      "The roots are 17.0 and -24.0\n"
     ]
    }
   ],
   "source": [
    "import math\n",
    "\n",
    "class QuadraticEquation:\n",
    "    \n",
    "    def __init__(self,a,b,c):\n",
    "        self.__a = a\n",
    "        self.__b = b\n",
    "        self.__c = c\n",
    "    \n",
    "    def getDiscriminant(self):\n",
    "        return self.__b**2 - 4 * self.__a * self.__c\n",
    "    \n",
    "    def getRoot1(self):\n",
    "        if self.getDiscriminant() < 0:\n",
    "            return 0\n",
    "        else:\n",
    "            return (-self.__b + self.getDiscriminant()) / (2 * self.__a)\n",
    "\n",
    "    def getRoot2(self):\n",
    "        if self.getDiscriminant() < 0:\n",
    "            return 0\n",
    "        else:\n",
    "            return (-self.__b - self.getDiscriminant()) / (2 * self.__a)\n",
    "    \n",
    "def main():\n",
    "    a = int(input(\"Enter an integer a :\"))\n",
    "    b = int(input(\"Enter an integer b :\"))\n",
    "    c = int(input(\"Enter an integer c :\"))\n",
    "    \n",
    "    equation = QuadraticEquation(a, b, c)\n",
    "    discriminant = equation.getDiscriminant()\n",
    "\n",
    "    if discriminant < 0:\n",
    "        print(\"The equation has no roots\")\n",
    "    elif discriminant == 0:\n",
    "        print(\"The root is \" + str(equation.getRoot1()))\n",
    "    else:\n",
    "        print(\"The roots are \" + str(equation.getRoot1()) + \" and \" + str(equation.getRoot2())) \n",
    "          \n",
    "main() "
   ]
  },
  {
   "cell_type": "markdown",
   "metadata": {},
   "source": [
    "### Design a class named Linear Equation for a 2 x 2 system of linear equation"
   ]
  },
  {
   "cell_type": "code",
   "execution_count": 20,
   "metadata": {},
   "outputs": [
    {
     "name": "stdout",
     "output_type": "stream",
     "text": [
      "Enter an integer a :4\n",
      "Enter an integer b :2\n",
      "Enter an integer c :3\n",
      "Enter an integer d :6\n",
      "Enter an integer e :2\n",
      "Enter an integer f :4\n",
      "the values of x is:  0.2222222222222222 and the value of y is:  0.5555555555555556\n"
     ]
    }
   ],
   "source": [
    "class LinearEquation:\n",
    "    \n",
    "    def __init__(self,a,b,c,d,e,f):\n",
    "        self.__a = a\n",
    "        self.__b = b\n",
    "        self.__c = c\n",
    "        self.__d = d\n",
    "        self.__e = e\n",
    "        self.__f = f\n",
    "    \n",
    "    def geta(self):\n",
    "        return self.__a\n",
    "    \n",
    "    def getb(self):\n",
    "        return self.__b\n",
    "    \n",
    "    def getc(self):\n",
    "        return self.__c\n",
    "    \n",
    "    def getd(self):\n",
    "        return self.__d\n",
    "    \n",
    "    def gete(self):\n",
    "        return self.__e\n",
    "    \n",
    "    def getf(self):\n",
    "        return self.__f\n",
    "    \n",
    "    def isSolvable(self):\n",
    "        if self.__a*self.__d - self.__b*self.__c != 0:\n",
    "            return True\n",
    "        else:\n",
    "            return False\n",
    "    \n",
    "    def getX(self):\n",
    "        return (self.__e*self.__d-self.__b*self.__f)/(self.__a*self.__d-self.__b*self.__c)\n",
    "    \n",
    "    def getY(self):\n",
    "        return (self.__a*self.__f-self.__e*self.__c)/(self.__a*self.__d-self.__b*self.__c)\n",
    "    \n",
    "def main():\n",
    "    a = int(input(\"Enter an integer a :\"))\n",
    "    b = int(input(\"Enter an integer b :\"))\n",
    "    c = int(input(\"Enter an integer c :\"))\n",
    "    d = int(input(\"Enter an integer d :\"))\n",
    "    e = int(input(\"Enter an integer e :\"))\n",
    "    f = int(input(\"Enter an integer f :\"))\n",
    "    \n",
    "    equation = LinearEquation(a, b, c, d, e, f)\n",
    "    solvable = equation.isSolvable()\n",
    "    \n",
    "    if solvable:\n",
    "        print(\"the values of x is: \",equation.getX(), \"and\", \"the value of y is: \", equation.getY())\n",
    "    else:\n",
    "        print(\"The equation has no solution\")\n",
    "        \n",
    "main()"
   ]
  }
 ],
 "metadata": {
  "kernelspec": {
   "display_name": "Python 3",
   "language": "python",
   "name": "python3"
  },
  "language_info": {
   "codemirror_mode": {
    "name": "ipython",
    "version": 3
   },
   "file_extension": ".py",
   "mimetype": "text/x-python",
   "name": "python",
   "nbconvert_exporter": "python",
   "pygments_lexer": "ipython3",
   "version": "3.7.4"
  }
 },
 "nbformat": 4,
 "nbformat_minor": 2
}
