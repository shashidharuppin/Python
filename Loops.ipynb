{
 "cells": [
  {
   "cell_type": "code",
   "execution_count": 1,
   "metadata": {},
   "outputs": [
    {
     "name": "stdout",
     "output_type": "stream",
     "text": [
      "1\n",
      "2\n",
      "3\n",
      "4\n",
      "5\n"
     ]
    }
   ],
   "source": [
    "for i in range(1,6):\n",
    "    print(i)"
   ]
  },
  {
   "cell_type": "code",
   "execution_count": 2,
   "metadata": {},
   "outputs": [
    {
     "name": "stdout",
     "output_type": "stream",
     "text": [
      "0\n",
      "1\n",
      "2\n",
      "3\n",
      "4\n",
      "5\n"
     ]
    }
   ],
   "source": [
    "for i in range(6):\n",
    "    print(i)"
   ]
  },
  {
   "cell_type": "code",
   "execution_count": 3,
   "metadata": {},
   "outputs": [
    {
     "name": "stdout",
     "output_type": "stream",
     "text": [
      "2\n",
      "4\n",
      "6\n",
      "8\n",
      "10\n",
      "12\n",
      "14\n",
      "16\n",
      "18\n"
     ]
    }
   ],
   "source": [
    "for i in range(2,20,2):\n",
    "    print(i)"
   ]
  },
  {
   "cell_type": "code",
   "execution_count": 4,
   "metadata": {},
   "outputs": [
    {
     "name": "stdout",
     "output_type": "stream",
     "text": [
      "2 4 6 8 10 12 14 16 18 "
     ]
    }
   ],
   "source": [
    "for i in range(2,20,2):\n",
    "    print(i, end=\" \")"
   ]
  },
  {
   "cell_type": "code",
   "execution_count": 6,
   "metadata": {},
   "outputs": [
    {
     "name": "stdout",
     "output_type": "stream",
     "text": [
      "s h a s h i d h a r "
     ]
    }
   ],
   "source": [
    "text = \"shashidhar\"\n",
    "\n",
    "for i in range(len(text)):\n",
    "    print(text[i], end=\" \")"
   ]
  },
  {
   "cell_type": "code",
   "execution_count": 7,
   "metadata": {},
   "outputs": [
    {
     "name": "stdout",
     "output_type": "stream",
     "text": [
      "6\n"
     ]
    }
   ],
   "source": [
    "index = 0\n",
    "\n",
    "for letter in text:\n",
    "    if letter =='d':\n",
    "        print(index)\n",
    "    index += 1"
   ]
  },
  {
   "cell_type": "code",
   "execution_count": 9,
   "metadata": {},
   "outputs": [
    {
     "name": "stdout",
     "output_type": "stream",
     "text": [
      "0 divisible by 5\n",
      "1 Not divisible by 5\n",
      "2 Not divisible by 5\n",
      "3 Not divisible by 5\n",
      "4 Not divisible by 5\n",
      "5 divisible by 5\n",
      "6 Not divisible by 5\n",
      "7 Not divisible by 5\n",
      "8 Not divisible by 5\n",
      "9 Not divisible by 5\n",
      "10 divisible by 5\n",
      "11 Not divisible by 5\n",
      "12 Not divisible by 5\n",
      "13 Not divisible by 5\n",
      "14 Not divisible by 5\n",
      "15 divisible by 5\n",
      "16 Not divisible by 5\n",
      "17 Not divisible by 5\n",
      "18 Not divisible by 5\n",
      "19 Not divisible by 5\n",
      "20 divisible by 5\n",
      "21 Not divisible by 5\n",
      "22 Not divisible by 5\n",
      "23 Not divisible by 5\n",
      "24 Not divisible by 5\n",
      "25 divisible by 5\n",
      "26 Not divisible by 5\n",
      "27 Not divisible by 5\n",
      "28 Not divisible by 5\n",
      "29 Not divisible by 5\n",
      "30 divisible by 5\n",
      "31 Not divisible by 5\n",
      "32 Not divisible by 5\n",
      "33 Not divisible by 5\n",
      "34 Not divisible by 5\n",
      "35 divisible by 5\n",
      "36 Not divisible by 5\n",
      "37 Not divisible by 5\n",
      "38 Not divisible by 5\n",
      "39 Not divisible by 5\n",
      "40 divisible by 5\n",
      "41 Not divisible by 5\n",
      "42 Not divisible by 5\n",
      "43 Not divisible by 5\n",
      "44 Not divisible by 5\n",
      "45 divisible by 5\n",
      "46 Not divisible by 5\n",
      "47 Not divisible by 5\n",
      "48 Not divisible by 5\n",
      "49 Not divisible by 5\n",
      "50 divisible by 5\n",
      "51 Not divisible by 5\n",
      "52 Not divisible by 5\n",
      "53 Not divisible by 5\n",
      "54 Not divisible by 5\n",
      "55 divisible by 5\n",
      "56 Not divisible by 5\n",
      "57 Not divisible by 5\n",
      "58 Not divisible by 5\n",
      "59 Not divisible by 5\n",
      "60 divisible by 5\n",
      "61 Not divisible by 5\n",
      "62 Not divisible by 5\n",
      "63 Not divisible by 5\n",
      "64 Not divisible by 5\n",
      "65 divisible by 5\n",
      "66 Not divisible by 5\n",
      "67 Not divisible by 5\n",
      "68 Not divisible by 5\n",
      "69 Not divisible by 5\n",
      "70 divisible by 5\n",
      "71 Not divisible by 5\n",
      "72 Not divisible by 5\n",
      "73 Not divisible by 5\n",
      "74 Not divisible by 5\n",
      "75 divisible by 5\n",
      "76 Not divisible by 5\n",
      "77 Not divisible by 5\n",
      "78 Not divisible by 5\n",
      "79 Not divisible by 5\n",
      "80 divisible by 5\n",
      "81 Not divisible by 5\n",
      "82 Not divisible by 5\n",
      "83 Not divisible by 5\n",
      "84 Not divisible by 5\n",
      "85 divisible by 5\n",
      "86 Not divisible by 5\n",
      "87 Not divisible by 5\n",
      "88 Not divisible by 5\n",
      "89 Not divisible by 5\n",
      "90 divisible by 5\n",
      "91 Not divisible by 5\n",
      "92 Not divisible by 5\n",
      "93 Not divisible by 5\n",
      "94 Not divisible by 5\n",
      "95 divisible by 5\n",
      "96 Not divisible by 5\n",
      "97 Not divisible by 5\n",
      "98 Not divisible by 5\n",
      "99 Not divisible by 5\n",
      "100 divisible by 5\n"
     ]
    }
   ],
   "source": [
    "for i in range(101):\n",
    "    if i % 5 == 0:\n",
    "        print(i, \"divisible by 5\")\n",
    "    else:\n",
    "        print(i, \"Not divisible by 5\")"
   ]
  },
  {
   "cell_type": "code",
   "execution_count": 1,
   "metadata": {},
   "outputs": [
    {
     "name": "stdout",
     "output_type": "stream",
     "text": [
      "0\n",
      "1\n",
      "2\n",
      "3\n",
      "4\n",
      "5\n",
      "6\n",
      "7\n",
      "8\n",
      "9\n",
      "10\n",
      "11\n",
      "12\n",
      "13\n",
      "14\n"
     ]
    }
   ],
   "source": [
    "i = 0\n",
    "\n",
    "while (i < 15):\n",
    "    print(i)\n",
    "    i = i + 1"
   ]
  },
  {
   "cell_type": "code",
   "execution_count": 2,
   "metadata": {},
   "outputs": [
    {
     "name": "stdout",
     "output_type": "stream",
     "text": [
      "0 divisible by 5\n",
      "1 Not divisible by 5\n",
      "2 Not divisible by 5\n",
      "3 Not divisible by 5\n",
      "4 Not divisible by 5\n",
      "5 divisible by 5\n",
      "6 Not divisible by 5\n",
      "7 Not divisible by 5\n",
      "8 Not divisible by 5\n",
      "9 Not divisible by 5\n",
      "10 divisible by 5\n",
      "11 Not divisible by 5\n",
      "12 Not divisible by 5\n",
      "13 Not divisible by 5\n",
      "14 Not divisible by 5\n",
      "15 divisible by 5\n",
      "16 Not divisible by 5\n",
      "17 Not divisible by 5\n",
      "18 Not divisible by 5\n",
      "19 Not divisible by 5\n",
      "20 divisible by 5\n",
      "21 Not divisible by 5\n",
      "22 Not divisible by 5\n",
      "23 Not divisible by 5\n",
      "24 Not divisible by 5\n",
      "25 divisible by 5\n",
      "26 Not divisible by 5\n",
      "27 Not divisible by 5\n",
      "28 Not divisible by 5\n",
      "29 Not divisible by 5\n",
      "30 divisible by 5\n",
      "31 Not divisible by 5\n",
      "32 Not divisible by 5\n",
      "33 Not divisible by 5\n",
      "34 Not divisible by 5\n",
      "35 divisible by 5\n",
      "36 Not divisible by 5\n",
      "37 Not divisible by 5\n",
      "38 Not divisible by 5\n",
      "39 Not divisible by 5\n",
      "40 divisible by 5\n",
      "41 Not divisible by 5\n",
      "42 Not divisible by 5\n",
      "43 Not divisible by 5\n",
      "44 Not divisible by 5\n",
      "45 divisible by 5\n",
      "46 Not divisible by 5\n",
      "47 Not divisible by 5\n",
      "48 Not divisible by 5\n",
      "49 Not divisible by 5\n",
      "50 divisible by 5\n",
      "51 Not divisible by 5\n",
      "52 Not divisible by 5\n",
      "53 Not divisible by 5\n",
      "54 Not divisible by 5\n",
      "55 divisible by 5\n",
      "56 Not divisible by 5\n",
      "57 Not divisible by 5\n",
      "58 Not divisible by 5\n",
      "59 Not divisible by 5\n",
      "60 divisible by 5\n",
      "61 Not divisible by 5\n",
      "62 Not divisible by 5\n",
      "63 Not divisible by 5\n",
      "64 Not divisible by 5\n",
      "65 divisible by 5\n",
      "66 Not divisible by 5\n",
      "67 Not divisible by 5\n",
      "68 Not divisible by 5\n",
      "69 Not divisible by 5\n",
      "70 divisible by 5\n",
      "71 Not divisible by 5\n",
      "72 Not divisible by 5\n",
      "73 Not divisible by 5\n",
      "74 Not divisible by 5\n",
      "75 divisible by 5\n",
      "76 Not divisible by 5\n",
      "77 Not divisible by 5\n",
      "78 Not divisible by 5\n",
      "79 Not divisible by 5\n",
      "80 divisible by 5\n",
      "81 Not divisible by 5\n",
      "82 Not divisible by 5\n",
      "83 Not divisible by 5\n",
      "84 Not divisible by 5\n",
      "85 divisible by 5\n",
      "86 Not divisible by 5\n",
      "87 Not divisible by 5\n",
      "88 Not divisible by 5\n",
      "89 Not divisible by 5\n",
      "90 divisible by 5\n",
      "91 Not divisible by 5\n",
      "92 Not divisible by 5\n",
      "93 Not divisible by 5\n",
      "94 Not divisible by 5\n",
      "95 divisible by 5\n",
      "96 Not divisible by 5\n",
      "97 Not divisible by 5\n",
      "98 Not divisible by 5\n",
      "99 Not divisible by 5\n",
      "100 divisible by 5\n"
     ]
    }
   ],
   "source": [
    "i = 0\n",
    "\n",
    "while (i < 101):\n",
    "    if i % 5 == 0:\n",
    "        print(i,\"divisible by 5\")\n",
    "    else:\n",
    "        print(i,\"Not divisible by 5\")\n",
    "    i += 1"
   ]
  },
  {
   "cell_type": "code",
   "execution_count": 16,
   "metadata": {},
   "outputs": [
    {
     "name": "stdout",
     "output_type": "stream",
     "text": [
      "  |   1   2   3   4   5   6   7   8   9\n",
      "-----------------------------------------\n",
      "1 |   1   2   3   4   5   6   7   8   9\n",
      "2 |   2   4   6   8  10  12  14  16  18\n",
      "3 |   3   6   9  12  15  18  21  24  27\n",
      "4 |   4   8  12  16  20  24  28  32  36\n",
      "5 |   5  10  15  20  25  30  35  40  45\n",
      "6 |   6  12  18  24  30  36  42  48  54\n",
      "7 |   7  14  21  28  35  42  49  56  63\n",
      "8 |   8  16  24  32  40  48  56  64  72\n",
      "9 |   9  18  27  36  45  54  63  72  81\n"
     ]
    }
   ],
   "source": [
    "print(\"  |\",end =\"\")\n",
    "for j in range(1,10):\n",
    "    print(\"  \",j,end=\"\")\n",
    "print()\n",
    "print(\"-----------------------------------------\")\n",
    "\n",
    "for i in range(1,10):\n",
    "    print(i,\"|\",end='')\n",
    "    for j in range(1,10):\n",
    "        print(format(i*j,\"4d\"),end=\"\")\n",
    "    print()\n",
    "    "
   ]
  },
  {
   "cell_type": "code",
   "execution_count": 19,
   "metadata": {},
   "outputs": [
    {
     "name": "stdout",
     "output_type": "stream",
     "text": [
      "0 \n",
      "0 1 \n",
      "0 1 2 \n",
      "0 1 2 3 \n"
     ]
    }
   ],
   "source": [
    "for i in range(1,5):\n",
    "    j=0\n",
    "    while j <i:\n",
    "        print(j, end=\" \")\n",
    "        j+=1\n",
    "    print()"
   ]
  },
  {
   "cell_type": "code",
   "execution_count": 22,
   "metadata": {},
   "outputs": [
    {
     "name": "stdout",
     "output_type": "stream",
     "text": [
      "****\n",
      "****\n",
      "****\n",
      "****\n",
      "****\n"
     ]
    }
   ],
   "source": [
    "j =0\n",
    "while j <5:\n",
    "    \n",
    "    for i in range(0,1,-1):\n",
    "        print(i,end=\"\")\n",
    "    print(\"****\")\n",
    "    j+=1"
   ]
  },
  {
   "cell_type": "code",
   "execution_count": 23,
   "metadata": {},
   "outputs": [
    {
     "name": "stdout",
     "output_type": "stream",
     "text": [
      "5xxx"
     ]
    }
   ],
   "source": [
    "num = 5\n",
    "print(num, end=\"xxx\")"
   ]
  },
  {
   "cell_type": "code",
   "execution_count": 24,
   "metadata": {},
   "outputs": [
    {
     "name": "stdout",
     "output_type": "stream",
     "text": [
      "1xxx2xxx4xxx8xxx16xxx\n",
      "1xxx2xxx4xxx8xxx\n",
      "1xxx2xxx4xxx\n",
      "1xxx2xxx\n",
      "1xxx\n"
     ]
    }
   ],
   "source": [
    "i=5\n",
    "while i>=1:\n",
    "    num=1\n",
    "    for j in range(1,i+1):\n",
    "        print(num, end=\"xxx\")\n",
    "        num *=2\n",
    "    print()\n",
    "    i-=1"
   ]
  },
  {
   "cell_type": "code",
   "execution_count": 27,
   "metadata": {},
   "outputs": [
    {
     "name": "stdout",
     "output_type": "stream",
     "text": [
      "enter any number18\n",
      "the entered number is Prime  False\n"
     ]
    }
   ],
   "source": [
    "num = int(input(\"enter any number\"))\n",
    "isPrime = True\n",
    "divisor = 2\n",
    "\n",
    "while divisor <= num/2:\n",
    "    if num % divisor==0:\n",
    "        isPrime = False\n",
    "    divisor+=1\n",
    "\n",
    "print(\"the entered number is Prime \", isPrime)"
   ]
  },
  {
   "cell_type": "code",
   "execution_count": 32,
   "metadata": {},
   "outputs": [
    {
     "name": "stdout",
     "output_type": "stream",
     "text": [
      "enter an integer, the input ends if it is 0: 0\n",
      "You didnt enter any number\n"
     ]
    }
   ],
   "source": [
    "num = int(input(\"enter an integer, the input ends if it is 0: \"))\n",
    "pos = 0\n",
    "neg = 0\n",
    "count = 0\n",
    "sum = 0 \n",
    "\n",
    "if num !=0:\n",
    "    \n",
    "    while num !=0:\n",
    "        if num > 0:\n",
    "            pos +=1\n",
    "        if num <0:\n",
    "            neg +=1\n",
    "        if num !=0:\n",
    "            count +=1\n",
    "        sum = sum + num\n",
    "        num = int(input(\"enter an interger, the input ends if it is 0: \"))\n",
    "    print(\"the total is \", sum)\n",
    "    print(\"The number of positives is \",pos)\n",
    "    print(\"The number of negatives is\", neg)\n",
    "    print(\"the average is \", sum/count)\n",
    "else:\n",
    "    print(\"You didnt enter any number\")"
   ]
  },
  {
   "cell_type": "code",
   "execution_count": 23,
   "metadata": {},
   "outputs": [
    {
     "name": "stdout",
     "output_type": "stream",
     "text": [
      "Kilograms           Pounds\n",
      "1                      2.2\n",
      "3                      6.6\n",
      "5                     11.0\n",
      "7                     15.4\n",
      "9                     19.8\n",
      "11                    24.2\n",
      "13                    28.6\n",
      "15                    33.0\n",
      "17                    37.4\n",
      "19                    41.8\n",
      "21                    46.2\n",
      "23                    50.6\n",
      "25                    55.0\n",
      "27                    59.4\n",
      "29                    63.8\n",
      "31                    68.2\n",
      "33                    72.6\n",
      "35                    77.0\n",
      "37                    81.4\n",
      "39                    85.8\n",
      "41                    90.2\n",
      "43                    94.6\n",
      "45                    99.0\n",
      "47                   103.4\n",
      "49                   107.8\n",
      "51                   112.2\n",
      "53                   116.6\n",
      "55                   121.0\n",
      "57                   125.4\n",
      "59                   129.8\n",
      "61                   134.2\n",
      "63                   138.6\n",
      "65                   143.0\n",
      "67                   147.4\n",
      "69                   151.8\n",
      "71                   156.2\n",
      "73                   160.6\n",
      "75                   165.0\n",
      "77                   169.4\n",
      "79                   173.8\n",
      "81                   178.2\n",
      "83                   182.6\n",
      "85                   187.0\n",
      "87                   191.4\n",
      "89                   195.8\n",
      "91                   200.2\n",
      "93                   204.6\n",
      "95                   209.0\n",
      "97                   213.4\n",
      "99                   217.8\n",
      "101                  222.2\n",
      "103                  226.6\n",
      "105                  231.0\n",
      "107                  235.4\n",
      "109                  239.8\n",
      "111                  244.2\n",
      "113                  248.6\n",
      "115                  253.0\n",
      "117                  257.4\n",
      "119                  261.8\n",
      "121                  266.2\n",
      "123                  270.6\n",
      "125                  275.0\n",
      "127                  279.4\n",
      "129                  283.8\n",
      "131                  288.2\n",
      "133                  292.6\n",
      "135                  297.0\n",
      "137                  301.4\n",
      "139                  305.8\n",
      "141                  310.2\n",
      "143                  314.6\n",
      "145                  319.0\n",
      "147                  323.4\n",
      "149                  327.8\n",
      "151                  332.2\n",
      "153                  336.6\n",
      "155                  341.0\n",
      "157                  345.4\n",
      "159                  349.8\n",
      "161                  354.2\n",
      "163                  358.6\n",
      "165                  363.0\n",
      "167                  367.4\n",
      "169                  371.8\n",
      "171                  376.2\n",
      "173                  380.6\n",
      "175                  385.0\n",
      "177                  389.4\n",
      "179                  393.8\n",
      "181                  398.2\n",
      "183                  402.6\n",
      "185                  407.0\n",
      "187                  411.4\n",
      "189                  415.8\n",
      "191                  420.2\n",
      "193                  424.6\n",
      "195                  429.0\n",
      "197                  433.4\n",
      "199                  437.8\n"
     ]
    }
   ],
   "source": [
    "print(format(\"Kilograms\",\"<15s\"),format(\"Pounds\",\">10s\"))\n",
    "\n",
    "for i in range(1,200,2):\n",
    "    print(format(i,\"<15d\"),format(i*2.2,\"10.1f\"))"
   ]
  },
  {
   "cell_type": "code",
   "execution_count": 31,
   "metadata": {},
   "outputs": [
    {
     "name": "stdout",
     "output_type": "stream",
     "text": [
      "Kilograms       Pounds             |         Pounds          Kilograms \n",
      "1               2.2       \n",
      "3               6.6       \n",
      "5               11.0      \n",
      "7               15.4      \n",
      "9               19.8      \n",
      "11              24.2      \n",
      "13              28.6      \n",
      "15              33.0      \n",
      "17              37.4      \n",
      "19              41.8      \n",
      "21              46.2      \n",
      "23              50.6      \n",
      "25              55.0      \n",
      "27              59.4      \n",
      "29              63.8      \n",
      "31              68.2      \n",
      "33              72.6      \n",
      "35              77.0      \n",
      "37              81.4      \n",
      "39              85.8      \n",
      "41              90.2      \n",
      "43              94.6      \n",
      "45              99.0      \n",
      "47              103.4     \n",
      "49              107.8     \n",
      "51              112.2     \n",
      "53              116.6     \n",
      "55              121.0     \n",
      "57              125.4     \n",
      "59              129.8     \n",
      "61              134.2     \n",
      "63              138.6     \n",
      "65              143.0     \n",
      "67              147.4     \n",
      "69              151.8     \n",
      "71              156.2     \n",
      "73              160.6     \n",
      "75              165.0     \n",
      "77              169.4     \n",
      "79              173.8     \n",
      "81              178.2     \n",
      "83              182.6     \n",
      "85              187.0     \n",
      "87              191.4     \n",
      "89              195.8     \n",
      "91              200.2     \n",
      "93              204.6     \n",
      "95              209.0     \n",
      "97              213.4     \n",
      "99              217.8     \n",
      "101             222.2     \n",
      "103             226.6     \n",
      "105             231.0     \n",
      "107             235.4     \n",
      "109             239.8     \n",
      "111             244.2     \n",
      "113             248.6     \n",
      "115             253.0     \n",
      "117             257.4     \n",
      "119             261.8     \n",
      "121             266.2     \n",
      "123             270.6     \n",
      "125             275.0     \n",
      "127             279.4     \n",
      "129             283.8     \n",
      "131             288.2     \n",
      "133             292.6     \n",
      "135             297.0     \n",
      "137             301.4     \n",
      "139             305.8     \n",
      "141             310.2     \n",
      "143             314.6     \n",
      "145             319.0     \n",
      "147             323.4     \n",
      "149             327.8     \n",
      "151             332.2     \n",
      "153             336.6     \n",
      "155             341.0     \n",
      "157             345.4     \n",
      "159             349.8     \n",
      "161             354.2     \n",
      "163             358.6     \n",
      "165             363.0     \n",
      "167             367.4     \n",
      "169             371.8     \n",
      "171             376.2     \n",
      "173             380.6     \n",
      "175             385.0     \n",
      "177             389.4     \n",
      "179             393.8     \n",
      "181             398.2     \n",
      "183             402.6     \n",
      "185             407.0     \n",
      "187             411.4     \n",
      "189             415.8     \n",
      "191             420.2     \n",
      "193             424.6     \n",
      "195             429.0     \n",
      "197             433.4     \n",
      "199             437.8     \n"
     ]
    }
   ],
   "source": [
    "print(format(\"Kilograms\",\"<15s\"),format(\"Pounds\",\"<10s\"),\"        |        \",format(\"Pounds\",\"<15s\"),format(\"Kilograms\",\"<10s\"))\n",
    "\n",
    "for i in range(1,200,2):\n",
    "    print(format(i,\"<15d\"),format(i*2.2,\"<10.1f\"))\n",
    "    for j in range (20,520,5):\n",
    "        print()"
   ]
  },
  {
   "cell_type": "code",
   "execution_count": 31,
   "metadata": {},
   "outputs": [
    {
     "name": "stdout",
     "output_type": "stream",
     "text": [
      "Kilograms       Pounds             |         Pounds          Kilograms \n",
      "1               2.2       \n",
      "3               6.6       \n",
      "5               11.0      \n",
      "7               15.4      \n",
      "9               19.8      \n",
      "11              24.2      \n",
      "13              28.6      \n",
      "15              33.0      \n",
      "17              37.4      \n",
      "19              41.8      \n",
      "21              46.2      \n",
      "23              50.6      \n",
      "25              55.0      \n",
      "27              59.4      \n",
      "29              63.8      \n",
      "31              68.2      \n",
      "33              72.6      \n",
      "35              77.0      \n",
      "37              81.4      \n",
      "39              85.8      \n",
      "41              90.2      \n",
      "43              94.6      \n",
      "45              99.0      \n",
      "47              103.4     \n",
      "49              107.8     \n",
      "51              112.2     \n",
      "53              116.6     \n",
      "55              121.0     \n",
      "57              125.4     \n",
      "59              129.8     \n",
      "61              134.2     \n",
      "63              138.6     \n",
      "65              143.0     \n",
      "67              147.4     \n",
      "69              151.8     \n",
      "71              156.2     \n",
      "73              160.6     \n",
      "75              165.0     \n",
      "77              169.4     \n",
      "79              173.8     \n",
      "81              178.2     \n",
      "83              182.6     \n",
      "85              187.0     \n",
      "87              191.4     \n",
      "89              195.8     \n",
      "91              200.2     \n",
      "93              204.6     \n",
      "95              209.0     \n",
      "97              213.4     \n",
      "99              217.8     \n",
      "101             222.2     \n",
      "103             226.6     \n",
      "105             231.0     \n",
      "107             235.4     \n",
      "109             239.8     \n",
      "111             244.2     \n",
      "113             248.6     \n",
      "115             253.0     \n",
      "117             257.4     \n",
      "119             261.8     \n",
      "121             266.2     \n",
      "123             270.6     \n",
      "125             275.0     \n",
      "127             279.4     \n",
      "129             283.8     \n",
      "131             288.2     \n",
      "133             292.6     \n",
      "135             297.0     \n",
      "137             301.4     \n",
      "139             305.8     \n",
      "141             310.2     \n",
      "143             314.6     \n",
      "145             319.0     \n",
      "147             323.4     \n",
      "149             327.8     \n",
      "151             332.2     \n",
      "153             336.6     \n",
      "155             341.0     \n",
      "157             345.4     \n",
      "159             349.8     \n",
      "161             354.2     \n",
      "163             358.6     \n",
      "165             363.0     \n",
      "167             367.4     \n",
      "169             371.8     \n",
      "171             376.2     \n",
      "173             380.6     \n",
      "175             385.0     \n",
      "177             389.4     \n",
      "179             393.8     \n",
      "181             398.2     \n",
      "183             402.6     \n",
      "185             407.0     \n",
      "187             411.4     \n",
      "189             415.8     \n",
      "191             420.2     \n",
      "193             424.6     \n",
      "195             429.0     \n",
      "197             433.4     \n",
      "199             437.8     \n"
     ]
    }
   ],
   "source": [
    "print(format(\"Kilograms\",\"<15s\"),format(\"Pounds\",\"<10s\"),\"        |        \",format(\"Pounds\",\"<15s\"),format(\"Kilograms\",\"<10s\"))\n",
    "\n",
    "for i in range(1,200,2):\n",
    "    print(format(i,\"<15d\"),format(i*2.2,\"<10.1f\"))\n",
    "    for j in range (20,520,5):\n",
    "        print()"
   ]
  },
  {
   "cell_type": "code",
   "execution_count": 33,
   "metadata": {},
   "outputs": [
    {
     "name": "stdout",
     "output_type": "stream",
     "text": [
      "Miles           Kilometers        |       Kilometers      Miles     \n",
      "-----------------------------------------------------------------\n",
      "1               1.609             |       20              12.430    \n",
      "2               3.218             |       25              15.538    \n",
      "3               4.827             |       30              18.645    \n",
      "4               6.436             |       35              21.753    \n",
      "5               8.045             |       40              24.860    \n",
      "6               9.654             |       45              27.968    \n",
      "7               11.263            |       50              31.075    \n",
      "8               12.872            |       55              34.183    \n",
      "9               14.481            |       60              37.290    \n",
      "10              16.090            |       65              40.398    \n"
     ]
    }
   ],
   "source": [
    "print(format(\"Miles\", \"<15s\"), format(\"Kilometers\", \"10s\"), \n",
    "      \"       |      \", format(\"Kilometers\", \"<15s\"), format(\"Miles\", \"10s\"))\n",
    "print(\"-----------------------------------------------------------------\")\n",
    "\n",
    "miles = 1\n",
    "kilometers = 20\n",
    "count = 1\n",
    "while count <= 10:\n",
    "    print(format(miles, \"<15d\"), format(miles * 1.609, \"<10.3f\"), \"       |      \", \n",
    "          format(kilometers, \"<15d\"), format(kilometers / 1.609, \"<10.3f\"))\n",
    "    miles += 1\n",
    "    kilometers += 5\n",
    "    count += 1"
   ]
  },
  {
   "cell_type": "code",
   "execution_count": 38,
   "metadata": {},
   "outputs": [
    {
     "name": "stdout",
     "output_type": "stream",
     "text": [
      "Kilograms       Pounds             |         Pounds          Kilograms \n",
      "1               2.2                |         20              9.00      \n",
      "3               6.6                |         25              11.25     \n",
      "5               11.0               |         30              13.50     \n",
      "7               15.4               |         35              15.75     \n",
      "9               19.8               |         40              18.00     \n",
      "11              24.2               |         45              20.25     \n",
      "13              28.6               |         50              22.50     \n",
      "15              33.0               |         55              24.75     \n",
      "17              37.4               |         60              27.00     \n",
      "19              41.8               |         65              29.25     \n",
      "21              46.2               |         70              31.50     \n",
      "23              50.6               |         75              33.75     \n",
      "25              55.0               |         80              36.00     \n",
      "27              59.4               |         85              38.25     \n",
      "29              63.8               |         90              40.50     \n",
      "31              68.2               |         95              42.75     \n",
      "33              72.6               |         100             45.00     \n",
      "35              77.0               |         105             47.25     \n",
      "37              81.4               |         110             49.50     \n",
      "39              85.8               |         115             51.75     \n",
      "41              90.2               |         120             54.00     \n",
      "43              94.6               |         125             56.25     \n",
      "45              99.0               |         130             58.50     \n",
      "47              103.4              |         135             60.75     \n",
      "49              107.8              |         140             63.00     \n",
      "51              112.2              |         145             65.25     \n",
      "53              116.6              |         150             67.50     \n",
      "55              121.0              |         155             69.75     \n",
      "57              125.4              |         160             72.00     \n",
      "59              129.8              |         165             74.25     \n",
      "61              134.2              |         170             76.50     \n",
      "63              138.6              |         175             78.75     \n",
      "65              143.0              |         180             81.00     \n",
      "67              147.4              |         185             83.25     \n",
      "69              151.8              |         190             85.50     \n",
      "71              156.2              |         195             87.75     \n",
      "73              160.6              |         200             90.00     \n",
      "75              165.0              |         205             92.25     \n",
      "77              169.4              |         210             94.50     \n",
      "79              173.8              |         215             96.75     \n",
      "81              178.2              |         220             99.00     \n",
      "83              182.6              |         225             101.25    \n",
      "85              187.0              |         230             103.50    \n",
      "87              191.4              |         235             105.75    \n",
      "89              195.8              |         240             108.00    \n",
      "91              200.2              |         245             110.25    \n",
      "93              204.6              |         250             112.50    \n",
      "95              209.0              |         255             114.75    \n",
      "97              213.4              |         260             117.00    \n",
      "99              217.8              |         265             119.25    \n",
      "101             222.2              |         270             121.50    \n",
      "103             226.6              |         275             123.75    \n",
      "105             231.0              |         280             126.00    \n",
      "107             235.4              |         285             128.25    \n",
      "109             239.8              |         290             130.50    \n",
      "111             244.2              |         295             132.75    \n",
      "113             248.6              |         300             135.00    \n",
      "115             253.0              |         305             137.25    \n",
      "117             257.4              |         310             139.50    \n",
      "119             261.8              |         315             141.75    \n",
      "121             266.2              |         320             144.00    \n",
      "123             270.6              |         325             146.25    \n",
      "125             275.0              |         330             148.50    \n",
      "127             279.4              |         335             150.75    \n",
      "129             283.8              |         340             153.00    \n",
      "131             288.2              |         345             155.25    \n",
      "133             292.6              |         350             157.50    \n",
      "135             297.0              |         355             159.75    \n",
      "137             301.4              |         360             162.00    \n",
      "139             305.8              |         365             164.25    \n",
      "141             310.2              |         370             166.50    \n",
      "143             314.6              |         375             168.75    \n",
      "145             319.0              |         380             171.00    \n",
      "147             323.4              |         385             173.25    \n",
      "149             327.8              |         390             175.50    \n",
      "151             332.2              |         395             177.75    \n",
      "153             336.6              |         400             180.00    \n",
      "155             341.0              |         405             182.25    \n",
      "157             345.4              |         410             184.50    \n",
      "159             349.8              |         415             186.75    \n",
      "161             354.2              |         420             189.00    \n",
      "163             358.6              |         425             191.25    \n",
      "165             363.0              |         430             193.50    \n",
      "167             367.4              |         435             195.75    \n",
      "169             371.8              |         440             198.00    \n",
      "171             376.2              |         445             200.25    \n",
      "173             380.6              |         450             202.50    \n",
      "175             385.0              |         455             204.75    \n",
      "177             389.4              |         460             207.00    \n",
      "179             393.8              |         465             209.25    \n",
      "181             398.2              |         470             211.50    \n",
      "183             402.6              |         475             213.75    \n",
      "185             407.0              |         480             216.00    \n",
      "187             411.4              |         485             218.25    \n",
      "189             415.8              |         490             220.50    \n",
      "191             420.2              |         495             222.75    \n",
      "193             424.6              |         500             225.00    \n",
      "195             429.0              |         505             227.25    \n",
      "197             433.4              |         510             229.50    \n",
      "199             437.8              |         515             231.75    \n"
     ]
    }
   ],
   "source": [
    "print(format(\"Kilograms\",\"<15s\"),format(\"Pounds\",\"<10s\"),\n",
    "      \"        |        \",format(\"Pounds\",\"<15s\"),format(\"Kilograms\",\"<10s\"))\n",
    "\n",
    "count= 0\n",
    "kilograms =1\n",
    "pounds =20\n",
    "\n",
    "while count <100:\n",
    "    print(format(kilograms,\"<15d\"),format(kilograms*2.2,\"<10.1f\"),\"        |        \",format(pounds,\"<15d\"),format(pounds*0.45,\"<10.2f\"))\n",
    "    count+=1\n",
    "    kilograms+=2\n",
    "    pounds+=5\n"
   ]
  },
  {
   "cell_type": "code",
   "execution_count": null,
   "metadata": {},
   "outputs": [],
   "source": [
    "tution = 10000\n",
    "count =1\n",
    "sum = 10000\n",
    "\n",
    "while count<10:\n",
    "    tution = tution *1.05\n",
    "    sum = sum + tution\n",
    "print(\"after ten year fees will be\",sum)\n",
    "    "
   ]
  },
  {
   "cell_type": "code",
   "execution_count": null,
   "metadata": {},
   "outputs": [],
   "source": [
    "tution = 10000\n",
    "count =1\n",
    "sum = 10000\n",
    "\n",
    "while count<10:\n",
    "    tution = tution *1.05\n",
    "    sum = sum + tution\n",
    "    count +=1\n",
    "print(\"after ten year fees will be\",sum)"
   ]
  },
  {
   "cell_type": "code",
   "execution_count": 11,
   "metadata": {},
   "outputs": [
    {
     "name": "stdout",
     "output_type": "stream",
     "text": [
      "four year total fees is 42000.0\n"
     ]
    }
   ],
   "source": [
    "tution = 10000\n",
    "count = 1\n",
    "sum = 0\n",
    "\n",
    "while count<10:\n",
    "    tution = tution *1.05\n",
    "    count +=1\n",
    "    if count==10:\n",
    "        print(\"after ten year fees will be\",tution)\n",
    "    \n",
    "    for count in range(11,15):\n",
    "        sum = sum + tution\n",
    "print(\"four year total fees is\", sum)\n"
   ]
  },
  {
   "cell_type": "code",
   "execution_count": 21,
   "metadata": {},
   "outputs": [
    {
     "name": "stdout",
     "output_type": "stream",
     "text": [
      "120 150 180 210 240 270 300 330 360 390\n",
      "420 450 480 510 540 570 600 630 660 690\n",
      "720 750 780 810 840 870 900 930 960 990\n"
     ]
    }
   ],
   "source": [
    "count =1\n",
    "for i in range(100,1001):\n",
    "    if i%5==0 and i%6==0:\n",
    "        if count %10 !=0:\n",
    "            print(i,end=\" \")\n",
    "        else:\n",
    "            print(i)\n",
    "        count= count+1"
   ]
  },
  {
   "cell_type": "code",
   "execution_count": 22,
   "metadata": {},
   "outputs": [
    {
     "name": "stdout",
     "output_type": "stream",
     "text": [
      "Enter the number of students: 5\n",
      "Enter a student name: sat\n",
      "Enter a student score: 56\n",
      "Enter a student name: raj\n",
      "Enter a student score: 59\n",
      "Enter a student name: rew\n",
      "Enter a student score: 87\n",
      "Enter a student name: sha\n",
      "Enter a student score: 90\n",
      "Enter a student name: pra\n",
      "Enter a student score: 89\n",
      "Top student sha's score is 90\n"
     ]
    }
   ],
   "source": [
    "numOfStudents = eval(input(\"Enter the number of students: \"))\n",
    "\n",
    "student1 = input(\"Enter a student name: \")\n",
    "score1 = eval(input(\"Enter a student score: \"))\n",
    "\n",
    "for i in range(numOfStudents - 1):\n",
    "    student = input(\"Enter a student name: \")\n",
    "    score = eval(input(\"Enter a student score: \")) \n",
    "\n",
    "    if score > score1:\n",
    "        student1 = student\n",
    "        score1 = score\n",
    "\n",
    "print(\"Top student \" + student1 + \"'s score is \" + str(score1))"
   ]
  },
  {
   "cell_type": "code",
   "execution_count": 1,
   "metadata": {},
   "outputs": [
    {
     "name": "stdout",
     "output_type": "stream",
     "text": [
      "Enter the number of students: 3\n",
      "Enter a student name: fha\n",
      "Enter a student score: 98\n",
      "Enter a student name: hfla\n",
      "Enter a student score: 29\n",
      "Enter a student name: fla\n",
      "Enter a student score: 87\n",
      "Top student fha's score is 98\n"
     ]
    }
   ],
   "source": [
    "numOfStudents = eval(input(\"Enter the number of students: \"))\n",
    "\n",
    "student1 = input(\"Enter a student name: \")\n",
    "score1 = eval(input(\"Enter a student score: \"))\n",
    "\n",
    "student2 = input(\"Enter a student name: \")\n",
    "score2 = eval(input(\"Enter a student score: \"))\n",
    "\n",
    "for i in range(numOfStudents - 2):\n",
    "    student = input(\"Enter a student name: \")\n",
    "    score = eval(input(\"Enter a student score: \")) \n",
    "\n",
    "    if score > score1:\n",
    "        student1 = student\n",
    "        score1 = score\n",
    "    \n",
    "    \n",
    "        \n",
    "print(\"Top student \" + student1 + \"'s score is \" + str(score1))\n"
   ]
  },
  {
   "cell_type": "code",
   "execution_count": 10,
   "metadata": {},
   "outputs": [
    {
     "name": "stdout",
     "output_type": "stream",
     "text": [
      "110\n"
     ]
    }
   ],
   "source": [
    "n = 1\n",
    "\n",
    "while n**2 <=12000:\n",
    "   \n",
    "    n=n+1\n",
    "\n",
    "print(n)\n",
    "    "
   ]
  },
  {
   "cell_type": "code",
   "execution_count": 11,
   "metadata": {},
   "outputs": [
    {
     "name": "stdout",
     "output_type": "stream",
     "text": [
      "23\n"
     ]
    }
   ],
   "source": [
    "n = 1\n",
    "\n",
    "while n*n*n <=12000:\n",
    "    n+=1\n",
    "print(n)"
   ]
  },
  {
   "cell_type": "code",
   "execution_count": 12,
   "metadata": {},
   "outputs": [
    {
     "data": {
      "text/plain": [
       "2"
      ]
     },
     "execution_count": 12,
     "metadata": {},
     "output_type": "execute_result"
    }
   ],
   "source": [
    "2%120\n"
   ]
  },
  {
   "cell_type": "code",
   "execution_count": 4,
   "metadata": {},
   "outputs": [
    {
     "name": "stdout",
     "output_type": "stream",
     "text": [
      "enter an integer: 120\n",
      "2 2 2 3 5 "
     ]
    }
   ],
   "source": [
    "n = int(input(\"enter an integer: \"))\n",
    "i =2\n",
    "while i <=n:\n",
    "    if n%i ==0:\n",
    "        n= n/i\n",
    "        print(i,end=\" \")\n",
    "    else:\n",
    "        i+=1\n",
    "\n",
    "    "
   ]
  },
  {
   "cell_type": "code",
   "execution_count": 1,
   "metadata": {},
   "outputs": [
    {
     "data": {
      "text/plain": [
       "0"
      ]
     },
     "execution_count": 1,
     "metadata": {},
     "output_type": "execute_result"
    }
   ],
   "source": [
    "120 % 2"
   ]
  },
  {
   "cell_type": "code",
   "execution_count": 2,
   "metadata": {},
   "outputs": [
    {
     "data": {
      "text/plain": [
       "0"
      ]
     },
     "execution_count": 2,
     "metadata": {},
     "output_type": "execute_result"
    }
   ],
   "source": [
    "120%2"
   ]
  },
  {
   "cell_type": "code",
   "execution_count": 2,
   "metadata": {},
   "outputs": [
    {
     "name": "stdout",
     "output_type": "stream",
     "text": [
      "1 \n",
      "1 2 \n",
      "1 2 3 \n",
      "1 2 3 4 \n",
      "1 2 3 4 5 \n",
      "1 2 3 4 5 6 \n"
     ]
    }
   ],
   "source": [
    "for i in range(1,7):\n",
    "    j=1\n",
    "    while j<=i:\n",
    "        print(j,end=\" \")\n",
    "        j+=1\n",
    "    print()   "
   ]
  },
  {
   "cell_type": "code",
   "execution_count": 5,
   "metadata": {},
   "outputs": [
    {
     "name": "stdout",
     "output_type": "stream",
     "text": [
      "1 2 3 4 5 6 \n",
      "1 2 3 4 5 \n",
      "1 2 3 4 \n",
      "1 2 3 \n",
      "1 2 \n",
      "1 \n"
     ]
    }
   ],
   "source": [
    "for i in range(1,7):\n",
    "    j=1\n",
    "    while 7-j>=i:\n",
    "        print(j,end=\" \")\n",
    "        j+=1\n",
    "    print() "
   ]
  },
  {
   "cell_type": "code",
   "execution_count": 5,
   "metadata": {},
   "outputs": [
    {
     "name": "stdout",
     "output_type": "stream",
     "text": [
      "6 5 4 3 2 1 \n",
      "6 5 4 3 2 \n",
      "6 5 4 3 \n",
      "6 5 4 \n",
      "6 5 \n",
      "6 \n"
     ]
    }
   ],
   "source": [
    "for i in range(1,7):\n",
    "    j=6\n",
    "    while j>=i:\n",
    "        print(j,end=\" \")\n",
    "        j-=1\n",
    "    print()\n",
    "    "
   ]
  },
  {
   "cell_type": "code",
   "execution_count": 8,
   "metadata": {},
   "outputs": [
    {
     "name": "stdout",
     "output_type": "stream",
     "text": [
      "1 \n",
      "1 2 \n",
      "1 2 3 \n",
      "1 2 3 4 \n",
      "1 2 3 4 5 \n",
      "1 2 3 4 5 6 \n"
     ]
    }
   ],
   "source": [
    "for i in range(1,7):\n",
    "    j=1\n",
    "    while j<=i:\n",
    "        print(format(j,\">1d\"),end=\" \")\n",
    "        j+=1\n",
    "    print() "
   ]
  },
  {
   "cell_type": "code",
   "execution_count": 21,
   "metadata": {},
   "outputs": [
    {
     "name": "stdout",
     "output_type": "stream",
     "text": [
      "          1 \n",
      "        2 1 \n",
      "      3 2 1 \n",
      "    4 3 2 1 \n",
      "  5 4 3 2 1 \n",
      "6 5 4 3 2 1 \n"
     ]
    }
   ],
   "source": [
    "for i in range(1,7):\n",
    "    for j in range(6-i,0,-1):\n",
    "        print(\" \",end=\" \")\n",
    "    for j in range(i,0,-1):\n",
    "        print(format(j),end=\" \")\n",
    "    print()"
   ]
  },
  {
   "cell_type": "code",
   "execution_count": 27,
   "metadata": {},
   "outputs": [
    {
     "name": "stdout",
     "output_type": "stream",
     "text": [
      "enter the number of lines: 7\n",
      "            1 \n",
      "          2 1 2 \n",
      "        3 2 1 2 3 \n",
      "      4 3 2 1 2 3 4 \n",
      "    5 4 3 2 1 2 3 4 5 \n",
      "  6 5 4 3 2 1 2 3 4 5 6 \n",
      "7 6 5 4 3 2 1 2 3 4 5 6 7 \n"
     ]
    }
   ],
   "source": [
    "n = int(input(\"enter the number of lines: \"))\n",
    "\n",
    "for i in range(1,n+1):\n",
    "    for j in range (n-i,0,-1):\n",
    "        print(\" \",end=\" \")\n",
    "    for j in range (i,0,-1):\n",
    "        print(j,end=\" \")\n",
    "    for j in range(2,i+1,1):\n",
    "        print(j, end =\" \")\n",
    "    print()"
   ]
  },
  {
   "cell_type": "code",
   "execution_count": 72,
   "metadata": {},
   "outputs": [
    {
     "name": "stdout",
     "output_type": "stream",
     "text": [
      "enter the number of lines: 8\n",
      "                1 \n",
      "              1 2 1 \n",
      "            1 2 4 2 1 \n",
      "          1 2 4 8 4 2 1 \n",
      "        1 2 4 8 16 8 4 2 1 \n",
      "      1 2 4 8 16 32 16 8 4 2 1 \n",
      "    1 2 4 8 16 32 64 32 16 8 4 2 1 \n",
      "  1 2 4 8 16 32 64 128 64 32 16 8 4 2 1 \n"
     ]
    }
   ],
   "source": [
    "n = int(input(\"enter the number of lines: \"))\n",
    "\n",
    "for i in range(0,n):\n",
    "    num = 1\n",
    "    num2=1\n",
    "    for j in range(n-i,0,-1):\n",
    "        print(\" \",end=\" \")\n",
    "    for j in range(0,i+1):\n",
    "        print(format(num,\"d\"),end=\" \")\n",
    "        num = num*2\n",
    "    for j in range(i+1,1,-1):\n",
    "        print(format(2**(j-2),\"d\"), end=\" \")\n",
    "    print()\n"
   ]
  },
  {
   "cell_type": "code",
   "execution_count": 54,
   "metadata": {},
   "outputs": [
    {
     "name": "stdout",
     "output_type": "stream",
     "text": [
      "1 \n",
      "2 2 \n",
      "4 4 4 \n",
      "8 8 8 8 \n",
      "16 16 16 16 16 \n",
      "32 32 32 32 32 32 \n",
      "64 64 64 64 64 64 64 \n",
      "128 128 128 128 128 128 128 128 \n"
     ]
    }
   ],
   "source": [
    "for i in range(0,n):\n",
    "    num = 1\n",
    "    for j in range(0,i+1,1):\n",
    "        print(2**i, end=\" \")\n",
    "        num = (2**i)/2\n",
    "    print()"
   ]
  },
  {
   "cell_type": "code",
   "execution_count": 73,
   "metadata": {},
   "outputs": [
    {
     "name": "stdout",
     "output_type": "stream",
     "text": [
      "enter value of n: 50000\n",
      "11.397003949278504\n"
     ]
    }
   ],
   "source": [
    "num =1\n",
    "sum =0\n",
    "\n",
    "n = int(input(\"enter value of n: \"))\n",
    "\n",
    "for i in range(1,n+1,1):\n",
    "    sum = sum + num/i\n",
    "\n",
    "print(sum)"
   ]
  },
  {
   "cell_type": "code",
   "execution_count": 75,
   "metadata": {},
   "outputs": [
    {
     "name": "stdout",
     "output_type": "stream",
     "text": [
      "sum of the series is:  147.0\n"
     ]
    }
   ],
   "source": [
    "sum =0\n",
    "for i in range(1,98,2):\n",
    "    sum = sum + i/i+2\n",
    "print(\"sum of the series is: \",sum)\n",
    "        "
   ]
  },
  {
   "cell_type": "code",
   "execution_count": 6,
   "metadata": {},
   "outputs": [
    {
     "name": "stdout",
     "output_type": "stream",
     "text": [
      "the value of pi for  100000 is 3.1416926435905346\n"
     ]
    }
   ],
   "source": [
    "pi = 0\n",
    "\n",
    "for j in range(0,10001,1):\n",
    "    pi += (-1)**(j)/(2*j+1)\n",
    "print(\"the value of pi for \",i,\"is\",pi*4)"
   ]
  },
  {
   "cell_type": "code",
   "execution_count": 18,
   "metadata": {},
   "outputs": [
    {
     "name": "stdout",
     "output_type": "stream",
     "text": [
      "2004 2008 2012 2016 2020 2024 2028 2032 2036 2040 \n",
      "2048 2052 2056 2060 2064 2068 2072 2076 2080 2084 \n",
      "2092 2096 "
     ]
    }
   ],
   "source": [
    "count=1\n",
    "for i in range(2001,2101,1):\n",
    "    if (i%4==0 and i%100 !=0) or (i%400==0):\n",
    "        if count%11 !=0:\n",
    "            print(i, end=\" \")     \n",
    "        else:\n",
    "            print()\n",
    "        count+=1"
   ]
  },
  {
   "cell_type": "code",
   "execution_count": 20,
   "metadata": {},
   "outputs": [
    {
     "name": "stdout",
     "output_type": "stream",
     "text": [
      "Enter a year: 2020\n",
      "Enter the first day of the year: 3\n",
      "January 1, 2020 is Wednesday\n",
      "February 1, 2020 is Saturday\n",
      "March 1, 2020 is Sunday\n",
      "April 1, 2020 is Wednesday\n",
      "May 1, 2020 is Friday\n",
      "June 1, 2020 is Monday\n",
      "July 1, 2020 is Wednesday\n",
      "August 1, 2020 is Saturday\n",
      "September 1, 2020 is Tuesday\n",
      "October 1, 2020 is Thursday\n",
      "November 1, 2020 is Sunday\n",
      "December 1, 2020 is Tuesday\n"
     ]
    }
   ],
   "source": [
    "year = eval(input(\"Enter a year: \"))\n",
    "firstDay = eval(input(\"Enter the first day of the year: \"))\n",
    "\n",
    "numberOfDaysInMonth = 0\n",
    "\n",
    "# Display calendar for each month\n",
    "for month in range(1, 12 + 1):\n",
    "    # Display Calendar title\n",
    "    if month == 1:\n",
    "        print(\"January 1,\", year, \"is \", end = \"\")\n",
    "        numberOfDaysInMonth = 31\n",
    "    elif month == 2:\n",
    "        print(\"February 1,\", year, \"is \", end = \"\")\n",
    "        if (year % 400 == 0 or (year % 4 == 0 and year % 100 != 0)):\n",
    "            numberOfDaysInMonth = 29\n",
    "        else:\n",
    "            numberOfDaysInMonth = 28\n",
    "    elif month == 3:\n",
    "        print(\"March 1,\", year, \"is \", end = \"\")\n",
    "        numberOfDaysInMonth = 31\n",
    "    elif month == 4:\n",
    "        print(\"April 1,\", year, \"is \", end = \"\")\n",
    "        numberOfDaysInMonth = 30\n",
    "    elif month == 5:\n",
    "        print(\"May 1,\", year, \"is \", end = \"\")\n",
    "        numberOfDaysInMonth = 31\n",
    "    elif month == 6:\n",
    "        print(\"June 1,\", year, \"is \", end = \"\")\n",
    "        numberOfDaysInMonth = 30\n",
    "    elif month == 7:\n",
    "        print(\"July 1,\", year, \"is \", end = \"\")\n",
    "        numberOfDaysInMonth = 31\n",
    "    elif month == 8:\n",
    "        print(\"August 1,\", year, \"is \", end = \"\")\n",
    "        numberOfDaysInMonth = 31\n",
    "    elif month == 9:\n",
    "        print(\"September 1,\", year, \"is \", end = \"\")\n",
    "        numberOfDaysInMonth = 30\n",
    "    elif month == 10:\n",
    "        print(\"October 1,\", year, \"is \", end = \"\")\n",
    "        numberOfDaysInMonth = 31\n",
    "    elif month == 11:\n",
    "        print(\"November 1,\", year, \"is \", end = \"\")\n",
    "        numberOfDaysInMonth = 30\n",
    "    elif (month == 12):\n",
    "        print(\"December 1,\", year, \"is \", end = \"\")\n",
    "        numberOfDaysInMonth = 31\n",
    "\n",
    "    if firstDay == 0:\n",
    "        print(\"Sunday\") \n",
    "    elif firstDay == 1:\n",
    "        print(\"Monday\") \n",
    "    elif firstDay == 2:\n",
    "        print(\"Tuesday\") \n",
    "    elif firstDay == 3:\n",
    "        print(\"Wednesday\") \n",
    "    elif firstDay == 4:\n",
    "        print(\"Thursday\") \n",
    "    elif firstDay == 5:\n",
    "        print(\"Friday\") \n",
    "    elif firstDay == 6:\n",
    "        print(\"Saturday\") \n",
    "\n",
    "    # Get the start day for the next month\n",
    "    firstDay = (firstDay + numberOfDaysInMonth) % 7"
   ]
  },
  {
   "cell_type": "code",
   "execution_count": null,
   "metadata": {},
   "outputs": [],
   "source": [
    "year = eval(input(\"Enter a year: \"))\n",
    "firstDay = eval(input(\"Enter the first day of the year: \"))\n",
    "\n",
    "num = 0\n",
    "for month in range(1, 12 + 1):\n",
    "    # Display Calendar title\n",
    "    if month == 1:\n",
    "        print(\"January 1,\", year)\n",
    "        print(-----------------------------------------------------)\n",
    "        print(\"Sun  Mon  Tue  Wed  Thu  Fri  Sat\")\n",
    "        num = 31\n",
    "        for i in range(1,num,1):\n",
    "            if firstday==0:\n",
    "                print\n",
    "        \n",
    "   \n",
    "    if firstDay == 0:\n",
    "        print(\"Sunday\") \n",
    "    elif firstDay == 1:\n",
    "        print(\"Monday\") \n",
    "    elif firstDay == 2:\n",
    "        print(\"Tuesday\") \n",
    "    elif firstDay == 3:\n",
    "        print(\"Wednesday\") \n",
    "    elif firstDay == 4:\n",
    "        print(\"Thursday\") \n",
    "    elif firstDay == 5:\n",
    "        print(\"Friday\") \n",
    "    elif firstDay == 6:\n",
    "        print(\"Saturday\") \n",
    "\n",
    "    # Get the start day for the next month\n",
    "    firstDay = (firstDay + num) % 7"
   ]
  },
  {
   "cell_type": "code",
   "execution_count": 31,
   "metadata": {},
   "outputs": [
    {
     "name": "stdout",
     "output_type": "stream",
     "text": [
      "enter an amount: 100\n",
      "enter interest rate: 5\n",
      "enter the months: 3\n",
      "401.6684027777778\n"
     ]
    }
   ],
   "source": [
    "amount = int(input(\"enter an amount: \"))\n",
    "interest = float(input(\"enter interest rate: \"))\n",
    "month = int(input(\"enter the months: \"))\n",
    "sum = amount\n",
    "intperMonth = (interest/1200)+1\n",
    "\n",
    "for i in range (1,month,1):\n",
    "    sum = sum *intperMonth+sum\n",
    "\n",
    "print(sum)\n",
    "    \n"
   ]
  },
  {
   "cell_type": "code",
   "execution_count": 32,
   "metadata": {},
   "outputs": [
    {
     "name": "stdout",
     "output_type": "stream",
     "text": [
      "Enter the amount to be saved for each month: 100\n",
      "Enter the annual interest rate: 5\n",
      "Enter the number of months: 3\n",
      "After the3th month, the account value is 302.50695167824074\n"
     ]
    }
   ],
   "source": [
    "monthlyDeposit = eval(input(\"Enter the amount to be saved for each month: \"))\n",
    "    \n",
    "annualInterestRate = eval(input(\"Enter the annual interest rate: \"))\n",
    "monthlyInterestRate = annualInterestRate / 1200\n",
    "\n",
    "numberOfMonths = eval(input(\"Enter the number of months: \"))\n",
    "\n",
    "currentValue = monthlyDeposit * (1 + monthlyInterestRate)\n",
    "for i in range(1, numberOfMonths):\n",
    "    currentValue = (currentValue + monthlyDeposit) * (1 + monthlyInterestRate)\n",
    "\n",
    "print(\"After the\" + str(numberOfMonths) + \"th month, the account value is \" + str(currentValue))"
   ]
  },
  {
   "cell_type": "code",
   "execution_count": 33,
   "metadata": {},
   "outputs": [
    {
     "name": "stdout",
     "output_type": "stream",
     "text": [
      "Enter the amount to be saved for each month: 10000\n",
      "Enter the annual interest rate: 5.75\n",
      "Enter the number of months: 18\n",
      "1 10047.916666666668\n",
      "2 10096.06293402778\n",
      "3 10144.439902253329\n",
      "4 10193.04867678496\n",
      "5 10241.890368361222\n",
      "6 10290.966093042955\n",
      "7 10340.276972238786\n",
      "8 10389.824132730764\n",
      "9 10439.6087067001\n",
      "10 10489.63183175304\n",
      "11 10539.894650946859\n",
      "12 10590.39831281598\n",
      "13 10641.143971398224\n",
      "14 10692.132786261174\n",
      "15 10743.365922528677\n",
      "16 10794.84455090746\n",
      "17 10846.569847713894\n"
     ]
    }
   ],
   "source": [
    "monthlyDeposit = eval(input(\"Enter the amount to be saved for each month: \"))\n",
    "    \n",
    "annualInterestRate = eval(input(\"Enter the annual interest rate: \"))\n",
    "monthlyInterestRate = annualInterestRate / 1200\n",
    "currentvalue= monthlyDeposit\n",
    "\n",
    "numberOfMonths = eval(input(\"Enter the number of months: \"))\n",
    "\n",
    "for i in range(1, numberOfMonths+1):\n",
    "    currentvalue = currentvalue * (1+monthlyInterestRate)\n",
    "    print(i, currentvalue)\n",
    "    "
   ]
  },
  {
   "cell_type": "code",
   "execution_count": 34,
   "metadata": {},
   "outputs": [
    {
     "name": "stdout",
     "output_type": "stream",
     "text": [
      "enter an integer: 6\n",
      "2 3 "
     ]
    }
   ],
   "source": [
    "n = int(input(\"enter an integer: \"))\n",
    "i =2\n",
    "while i <=n:\n",
    "    if n%i ==0:\n",
    "        n= n/i\n",
    "        print(i,end=\" \")\n",
    "    else:\n",
    "        i+=1"
   ]
  },
  {
   "cell_type": "code",
   "execution_count": 36,
   "metadata": {},
   "outputs": [
    {
     "name": "stdout",
     "output_type": "stream",
     "text": [
      "Enter a positive integer: 28\n",
      "The factors for 28 is 2 2 7 "
     ]
    }
   ],
   "source": [
    "number = eval(input(\"Enter a positive integer: \"))\n",
    "    \n",
    "# Find all the smallest factors of the integer\n",
    "print(\"The factors for\", number, \"is\", end = \" \")\n",
    "factor = 2\n",
    "while factor <= number:\n",
    "    if number % factor == 0:\n",
    "        number = number / factor\n",
    "        print(factor, end = \" \")\n",
    "    else:\n",
    "        factor += 1"
   ]
  },
  {
   "cell_type": "code",
   "execution_count": 41,
   "metadata": {},
   "outputs": [],
   "source": [
    "sum = 0\n",
    "\n",
    "for i in range(2,10):\n",
    "    for j in range(1,i):\n",
    "        if i%j==0 and i!=j:\n",
    "            sum+=j\n",
    "        if sum ==i:\n",
    "                print(i)\n",
    "            \n",
    "            \n",
    "        "
   ]
  },
  {
   "cell_type": "code",
   "execution_count": 37,
   "metadata": {},
   "outputs": [
    {
     "data": {
      "text/plain": [
       "0"
      ]
     },
     "execution_count": 37,
     "metadata": {},
     "output_type": "execute_result"
    }
   ],
   "source": []
  },
  {
   "cell_type": "code",
   "execution_count": 47,
   "metadata": {},
   "outputs": [
    {
     "name": "stdout",
     "output_type": "stream",
     "text": [
      "6\n",
      "28\n",
      "496\n",
      "8128\n"
     ]
    }
   ],
   "source": [
    "for i in range(2,10001):\n",
    "    sum = 0\n",
    "    for j in range(1,i):\n",
    "        if i%j==0 and i!=j:\n",
    "            sum+=j\n",
    "    if sum ==i:\n",
    "        print(i)"
   ]
  },
  {
   "cell_type": "code",
   "execution_count": 3,
   "metadata": {},
   "outputs": [
    {
     "name": "stdout",
     "output_type": "stream",
     "text": [
      "Min amount of sales required to generate to make 30000 is:  208335\n"
     ]
    }
   ],
   "source": [
    "base= 5000\n",
    "num = 1\n",
    "amount = 0\n",
    "\n",
    "while amount < 25000:\n",
    "    if num <=5000:\n",
    "        commissionrate = 0.08\n",
    "    elif num >5000 and num <=10000:\n",
    "        commissionrate = 0.10\n",
    "    else:\n",
    "        commissionrate = 0.12\n",
    "    \n",
    "    amount = commissionrate*num\n",
    "    num+=1\n",
    "print(\"Min amount of sales required to generate to make 30000 is: \",num)"
   ]
  },
  {
   "cell_type": "code",
   "execution_count": 4,
   "metadata": {},
   "outputs": [
    {
     "name": "stdout",
     "output_type": "stream",
     "text": [
      "1 2\n",
      "1 3\n",
      "1 4\n",
      "1 5\n",
      "1 6\n",
      "1 7\n",
      "2 3\n",
      "2 4\n",
      "2 5\n",
      "2 6\n",
      "2 7\n",
      "3 4\n",
      "3 5\n",
      "3 6\n",
      "3 7\n",
      "4 5\n",
      "4 6\n",
      "4 7\n",
      "5 6\n",
      "5 7\n",
      "6 7\n",
      "total combinations is:  21\n"
     ]
    }
   ],
   "source": [
    "count=0\n",
    "for i in range(1,8):\n",
    "    for j in range(i+1,8):\n",
    "        print(i,j)\n",
    "        count+=1\n",
    "print(\"total combinations is: \",count)"
   ]
  },
  {
   "cell_type": "code",
   "execution_count": 7,
   "metadata": {},
   "outputs": [
    {
     "name": "stdout",
     "output_type": "stream",
     "text": [
      "The probability in Region 1 and 3 is 0.624873\n"
     ]
    }
   ],
   "source": [
    "import random\n",
    "\n",
    "NUMBER_OF_TRIALS = 1000000\n",
    "numberOfHits = 0\n",
    "\n",
    "for i in range(NUMBER_OF_TRIALS):\n",
    "    x = random.random() * 2.0 - 1;\n",
    "    y = random.random() * 2.0 - 1;\n",
    "    if x < 0:\n",
    "        numberOfHits += 1\n",
    "    elif not (x > 1 or x < 0 or y > 1 or y < 0):\n",
    "        slope = (1.0 - 0) / (0 - 1.0)\n",
    "        x1 = x + -y * slope\n",
    "        if x1 <= 1:\n",
    "            numberOfHits += 1\n",
    "\n",
    "print(\"The probability in Region 1 and 3 is\",\n",
    "    1.0 * numberOfHits / NUMBER_OF_TRIALS)"
   ]
  },
  {
   "cell_type": "code",
   "execution_count": 11,
   "metadata": {},
   "outputs": [
    {
     "name": "stdout",
     "output_type": "stream",
     "text": [
      "*    * \n",
      "*   *  \n",
      "*  *   \n",
      "* *    \n",
      "*  *   \n",
      "*   *  \n",
      "*    * \n"
     ]
    }
   ],
   "source": [
    "i=0\n",
    "j=4\n",
    "for row in range(7):\n",
    "    for col in range(5):\n",
    "        if (col==0 or (row==col+2 and col>1)):\n",
    "            print(\"*\", end=\" \")\n",
    "        elif ((row==i and col==j) and col>0):\n",
    "            print(\"*\",end=\" \")\n",
    "            i+=1\n",
    "            j-=1\n",
    "        else:\n",
    "            print(end=\" \")\n",
    "    print()"
   ]
  },
  {
   "cell_type": "code",
   "execution_count": 12,
   "metadata": {},
   "outputs": [
    {
     "name": "stdout",
     "output_type": "stream",
     "text": [
      "*    * \n",
      "*   *  \n",
      "*  *   \n",
      "* *    \n",
      "*  *   \n",
      "*   *  \n",
      "*    * \n"
     ]
    }
   ],
   "source": [
    "for row in range(7):\n",
    "    for col in range(5):\n",
    "        if (col==0 or col+row==4 or row-col==2):\n",
    "            print(\"*\",end=\" \")\n",
    "        else:\n",
    "            print(end=\" \")\n",
    "    print()"
   ]
  },
  {
   "cell_type": "code",
   "execution_count": 16,
   "metadata": {},
   "outputs": [
    {
     "name": "stdout",
     "output_type": "stream",
     "text": [
      "* \n",
      "* \n",
      "* \n",
      "* \n"
     ]
    }
   ],
   "source": [
    "for row in range(4):\n",
    "    for col in range(7):\n",
    "        if (row==col):\n",
    "            print(\"*\",end=\" \")\n",
    "       \n",
    "    print()"
   ]
  },
  {
   "cell_type": "code",
   "execution_count": 17,
   "metadata": {},
   "outputs": [
    {
     "name": "stdout",
     "output_type": "stream",
     "text": [
      "*     *\n",
      " *   * \n",
      "  * *  \n",
      "   *   \n"
     ]
    }
   ],
   "source": [
    "for i in range(4):\n",
    "    for j in range(7):\n",
    "        if (i==j)or(i+j==6):\n",
    "            print(\"*\",end=\"\")\n",
    "        else:\n",
    "            print(end=\" \" )\n",
    "    print()"
   ]
  },
  {
   "cell_type": "code",
   "execution_count": 31,
   "metadata": {},
   "outputs": [
    {
     "name": "stdout",
     "output_type": "stream",
     "text": [
      "*     *\n",
      "*   * *\n",
      "*    **\n",
      "*     *\n"
     ]
    }
   ],
   "source": [
    "for i in range(4):\n",
    "    for j in range(7):\n",
    "        if (j==0 or j==6 or (i==1 and j==4) or (i==2 and j==5)):\n",
    "            print(\"*\",end=\"\")\n",
    "        else:\n",
    "            print(end=\" \")\n",
    "    print()\n",
    "            "
   ]
  },
  {
   "cell_type": "code",
   "execution_count": 34,
   "metadata": {},
   "outputs": [
    {
     "name": "stdout",
     "output_type": "stream",
     "text": [
      "*  *  *\n",
      "* * * *\n",
      "**   **\n",
      "*     *\n"
     ]
    }
   ],
   "source": [
    "for i in range(4):\n",
    "    for j in range(7):\n",
    "        if (j==0 or j==6 or (i==1 and j==4) or (i==2 and j==5)):\n",
    "            print(\"*\",end=\"\")\n",
    "        elif (i+j==3):\n",
    "            print(\"*\",end=\"\")\n",
    "        else:\n",
    "            print(end=\" \")\n",
    "    print()\n",
    "    "
   ]
  },
  {
   "cell_type": "code",
   "execution_count": 35,
   "metadata": {},
   "outputs": [
    {
     "name": "stdout",
     "output_type": "stream",
     "text": [
      " ***   \n",
      "*      \n",
      "*      \n",
      " ****  \n"
     ]
    }
   ],
   "source": [
    "for i in range(4):\n",
    "    for j in range(7):\n",
    "        if ((i==0 or i==3 or i==5) and (j>0 and j<4)):\n",
    "            print(\"*\",end=\"\")\n",
    "        elif ((j==0 and (i==1 or i==2)) or ((i==3 or i==4) and (j==4))):\n",
    "            print(\"*\",end=\"\")\n",
    "        else:\n",
    "            print(end=\" \")\n",
    "    print()"
   ]
  }
 ],
 "metadata": {
  "kernelspec": {
   "display_name": "Python 3",
   "language": "python",
   "name": "python3"
  },
  "language_info": {
   "codemirror_mode": {
    "name": "ipython",
    "version": 3
   },
   "file_extension": ".py",
   "mimetype": "text/x-python",
   "name": "python",
   "nbconvert_exporter": "python",
   "pygments_lexer": "ipython3",
   "version": "3.7.4"
  }
 },
 "nbformat": 4,
 "nbformat_minor": 2
}
